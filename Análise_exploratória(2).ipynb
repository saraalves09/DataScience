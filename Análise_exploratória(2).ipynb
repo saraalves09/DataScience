{
  "nbformat": 4,
  "nbformat_minor": 0,
  "metadata": {
    "colab": {
      "provenance": [],
      "collapsed_sections": []
    },
    "kernelspec": {
      "name": "python3",
      "display_name": "Python 3"
    },
    "language_info": {
      "name": "python"
    }
  },
  "cells": [
    {
      "cell_type": "code",
      "execution_count": null,
      "metadata": {
        "id": "Sk_lATqpAOym"
      },
      "outputs": [],
      "source": [
        "import numpy as np\n",
        "import pandas as pd"
      ]
    },
    {
      "cell_type": "code",
      "source": [
        "from google.colab import drive\n",
        "drive.mount('/content/drive')"
      ],
      "metadata": {
        "colab": {
          "base_uri": "https://localhost:8080/"
        },
        "id": "2z2sBwe4Byw-",
        "outputId": "31363b27-50b7-47d3-b885-118b3eacd3b9"
      },
      "execution_count": null,
      "outputs": [
        {
          "output_type": "stream",
          "name": "stdout",
          "text": [
            "Mounted at /content/drive\n"
          ]
        }
      ]
    },
    {
      "cell_type": "code",
      "source": [
        "#iremos ver probabilidade, testes de hipótese e testes de normalidade"
      ],
      "metadata": {
        "id": "wD8Y_K4FHryd"
      },
      "execution_count": null,
      "outputs": []
    },
    {
      "cell_type": "code",
      "source": [
        "df = pd.read_csv('/content/drive/MyDrive/DataScience/cursos-prouni.csv - cursos-prouni-2018-tratados.csv.csv',\n",
        "                  sep=',', encoding='utf-8')\n",
        "df"
      ],
      "metadata": {
        "colab": {
          "base_uri": "https://localhost:8080/",
          "height": 713
        },
        "id": "isSOJ8CgB4oH",
        "outputId": "4d2ccf49-e9c8-4c06-91d0-5c3ff9eb3b66"
      },
      "execution_count": null,
      "outputs": [
        {
          "output_type": "execute_result",
          "data": {
            "text/plain": [
              "              grau              turno  mensalidade  bolsa_integral_cotas  \\\n",
              "0      Bacharelado           Integral      9715.61                   2.0   \n",
              "1      Bacharelado           Integral      9674.34                   4.0   \n",
              "2      Bacharelado           Integral      9023.07                   4.0   \n",
              "3      Bacharelado           Integral      8508.54                   2.0   \n",
              "4      Bacharelado           Integral      8281.38                   3.0   \n",
              "...            ...                ...          ...                   ...   \n",
              "2198   Bacharelado  Curso a Distância       189.00                   1.0   \n",
              "2199   Bacharelado  Curso a Distância       189.00                   1.0   \n",
              "2200  Licenciatura  Curso a Distância       189.00                   1.0   \n",
              "2201   Tecnológico            Noturno       188.00                   1.0   \n",
              "2202   Tecnológico  Curso a Distância       144.00                   1.0   \n",
              "\n",
              "      bolsa_integral_ampla  bolsa_parcial_cotas  bolsa_parcial_ampla  \\\n",
              "0                      5.0                  6.0                 10.0   \n",
              "1                      1.0                  5.0                  2.0   \n",
              "2                      4.0                  5.0                  5.0   \n",
              "3                      1.0                  7.0                  2.0   \n",
              "4                      1.0                  6.0                  2.0   \n",
              "...                    ...                  ...                  ...   \n",
              "2198                   2.0                  1.0                  3.0   \n",
              "2199                   1.0                  1.0                  3.0   \n",
              "2200                   1.0                  1.0                  3.0   \n",
              "2201                   2.0                  1.0                  9.0   \n",
              "2202                   2.0                  2.0                  5.0   \n",
              "\n",
              "             curso_id          curso_busca cidade_busca uf_busca  \\\n",
              "0       1002328574024             Medicina    Sao Paulo       SP   \n",
              "1      65899611932754             Medicina   Rio Branco       AC   \n",
              "2      65921511844324             Medicina    Itaperuna       RJ   \n",
              "3     104123711716094             Medicina        Belem       PA   \n",
              "4     105887911921884             Medicina   Imperatriz       MA   \n",
              "...               ...                  ...          ...      ...   \n",
              "2198   65991211887475             Teologia    Sao Paulo       SP   \n",
              "2199  104980411887475             Teologia    Sao Paulo       SP   \n",
              "2200   65991213655645            Pedagogia    Sao Paulo       SP   \n",
              "2201   65868713317703  Gestão da Qualidade  Sao VIcente       SP   \n",
              "2202   65868712869275            Marketing  Sao VIcente       SP   \n",
              "\n",
              "                                universidade_nome                 nome  \\\n",
              "0       Universidade Cidade de São Paulo - UNICID             Medicina   \n",
              "1             Faculdade Barão do Rio Branco - FAB             Medicina   \n",
              "2                Faculdade Redentor - FACREDENTOR             Medicina   \n",
              "3     Faculdade Metropolitana da Amazônia - FAMAZ             Medicina   \n",
              "4     Universidade do Ceuma - Uniceuma - UNICEUMA             Medicina   \n",
              "...                                           ...                  ...   \n",
              "2198                         Faculdade Messianica             Teologia   \n",
              "2199                         Faculdade Messianica             Teologia   \n",
              "2200                         Faculdade Messianica            Pedagogia   \n",
              "2201               Faculdade de São VIcente - FSV  Gestão da Qualidade   \n",
              "2202               Faculdade de São VIcente - FSV            Marketing   \n",
              "\n",
              "      nota_integral_ampla  nota_integral_cotas  nota_parcial_ampla  \\\n",
              "0                  739.62               738.08              738.96   \n",
              "1                  758.32               723.94              734.92   \n",
              "2                  741.06               729.02              730.98   \n",
              "3                  741.36               739.90              760.80   \n",
              "4                  756.46               737.88              747.14   \n",
              "...                   ...                  ...                 ...   \n",
              "2198               584.34               450.00              489.28   \n",
              "2199               450.00               450.00              450.00   \n",
              "2200               497.78               506.78              508.48   \n",
              "2201               456.66               450.00              450.00   \n",
              "2202               533.34               450.00              450.00   \n",
              "\n",
              "      nota_parcial_cotas  \n",
              "0                 718.64  \n",
              "1                 711.26  \n",
              "2                 722.82  \n",
              "3                 715.10  \n",
              "4                 717.60  \n",
              "...                  ...  \n",
              "2198              450.00  \n",
              "2199              450.00  \n",
              "2200              451.78  \n",
              "2201              450.00  \n",
              "2202              450.00  \n",
              "\n",
              "[2203 rows x 17 columns]"
            ],
            "text/html": [
              "\n",
              "  <div id=\"df-0ef847ae-9ac4-4bfe-8abd-0a8861dc9a50\">\n",
              "    <div class=\"colab-df-container\">\n",
              "      <div>\n",
              "<style scoped>\n",
              "    .dataframe tbody tr th:only-of-type {\n",
              "        vertical-align: middle;\n",
              "    }\n",
              "\n",
              "    .dataframe tbody tr th {\n",
              "        vertical-align: top;\n",
              "    }\n",
              "\n",
              "    .dataframe thead th {\n",
              "        text-align: right;\n",
              "    }\n",
              "</style>\n",
              "<table border=\"1\" class=\"dataframe\">\n",
              "  <thead>\n",
              "    <tr style=\"text-align: right;\">\n",
              "      <th></th>\n",
              "      <th>grau</th>\n",
              "      <th>turno</th>\n",
              "      <th>mensalidade</th>\n",
              "      <th>bolsa_integral_cotas</th>\n",
              "      <th>bolsa_integral_ampla</th>\n",
              "      <th>bolsa_parcial_cotas</th>\n",
              "      <th>bolsa_parcial_ampla</th>\n",
              "      <th>curso_id</th>\n",
              "      <th>curso_busca</th>\n",
              "      <th>cidade_busca</th>\n",
              "      <th>uf_busca</th>\n",
              "      <th>universidade_nome</th>\n",
              "      <th>nome</th>\n",
              "      <th>nota_integral_ampla</th>\n",
              "      <th>nota_integral_cotas</th>\n",
              "      <th>nota_parcial_ampla</th>\n",
              "      <th>nota_parcial_cotas</th>\n",
              "    </tr>\n",
              "  </thead>\n",
              "  <tbody>\n",
              "    <tr>\n",
              "      <th>0</th>\n",
              "      <td>Bacharelado</td>\n",
              "      <td>Integral</td>\n",
              "      <td>9715.61</td>\n",
              "      <td>2.0</td>\n",
              "      <td>5.0</td>\n",
              "      <td>6.0</td>\n",
              "      <td>10.0</td>\n",
              "      <td>1002328574024</td>\n",
              "      <td>Medicina</td>\n",
              "      <td>Sao Paulo</td>\n",
              "      <td>SP</td>\n",
              "      <td>Universidade Cidade de São Paulo - UNICID</td>\n",
              "      <td>Medicina</td>\n",
              "      <td>739.62</td>\n",
              "      <td>738.08</td>\n",
              "      <td>738.96</td>\n",
              "      <td>718.64</td>\n",
              "    </tr>\n",
              "    <tr>\n",
              "      <th>1</th>\n",
              "      <td>Bacharelado</td>\n",
              "      <td>Integral</td>\n",
              "      <td>9674.34</td>\n",
              "      <td>4.0</td>\n",
              "      <td>1.0</td>\n",
              "      <td>5.0</td>\n",
              "      <td>2.0</td>\n",
              "      <td>65899611932754</td>\n",
              "      <td>Medicina</td>\n",
              "      <td>Rio Branco</td>\n",
              "      <td>AC</td>\n",
              "      <td>Faculdade Barão do Rio Branco - FAB</td>\n",
              "      <td>Medicina</td>\n",
              "      <td>758.32</td>\n",
              "      <td>723.94</td>\n",
              "      <td>734.92</td>\n",
              "      <td>711.26</td>\n",
              "    </tr>\n",
              "    <tr>\n",
              "      <th>2</th>\n",
              "      <td>Bacharelado</td>\n",
              "      <td>Integral</td>\n",
              "      <td>9023.07</td>\n",
              "      <td>4.0</td>\n",
              "      <td>4.0</td>\n",
              "      <td>5.0</td>\n",
              "      <td>5.0</td>\n",
              "      <td>65921511844324</td>\n",
              "      <td>Medicina</td>\n",
              "      <td>Itaperuna</td>\n",
              "      <td>RJ</td>\n",
              "      <td>Faculdade Redentor - FACREDENTOR</td>\n",
              "      <td>Medicina</td>\n",
              "      <td>741.06</td>\n",
              "      <td>729.02</td>\n",
              "      <td>730.98</td>\n",
              "      <td>722.82</td>\n",
              "    </tr>\n",
              "    <tr>\n",
              "      <th>3</th>\n",
              "      <td>Bacharelado</td>\n",
              "      <td>Integral</td>\n",
              "      <td>8508.54</td>\n",
              "      <td>2.0</td>\n",
              "      <td>1.0</td>\n",
              "      <td>7.0</td>\n",
              "      <td>2.0</td>\n",
              "      <td>104123711716094</td>\n",
              "      <td>Medicina</td>\n",
              "      <td>Belem</td>\n",
              "      <td>PA</td>\n",
              "      <td>Faculdade Metropolitana da Amazônia - FAMAZ</td>\n",
              "      <td>Medicina</td>\n",
              "      <td>741.36</td>\n",
              "      <td>739.90</td>\n",
              "      <td>760.80</td>\n",
              "      <td>715.10</td>\n",
              "    </tr>\n",
              "    <tr>\n",
              "      <th>4</th>\n",
              "      <td>Bacharelado</td>\n",
              "      <td>Integral</td>\n",
              "      <td>8281.38</td>\n",
              "      <td>3.0</td>\n",
              "      <td>1.0</td>\n",
              "      <td>6.0</td>\n",
              "      <td>2.0</td>\n",
              "      <td>105887911921884</td>\n",
              "      <td>Medicina</td>\n",
              "      <td>Imperatriz</td>\n",
              "      <td>MA</td>\n",
              "      <td>Universidade do Ceuma - Uniceuma - UNICEUMA</td>\n",
              "      <td>Medicina</td>\n",
              "      <td>756.46</td>\n",
              "      <td>737.88</td>\n",
              "      <td>747.14</td>\n",
              "      <td>717.60</td>\n",
              "    </tr>\n",
              "    <tr>\n",
              "      <th>...</th>\n",
              "      <td>...</td>\n",
              "      <td>...</td>\n",
              "      <td>...</td>\n",
              "      <td>...</td>\n",
              "      <td>...</td>\n",
              "      <td>...</td>\n",
              "      <td>...</td>\n",
              "      <td>...</td>\n",
              "      <td>...</td>\n",
              "      <td>...</td>\n",
              "      <td>...</td>\n",
              "      <td>...</td>\n",
              "      <td>...</td>\n",
              "      <td>...</td>\n",
              "      <td>...</td>\n",
              "      <td>...</td>\n",
              "      <td>...</td>\n",
              "    </tr>\n",
              "    <tr>\n",
              "      <th>2198</th>\n",
              "      <td>Bacharelado</td>\n",
              "      <td>Curso a Distância</td>\n",
              "      <td>189.00</td>\n",
              "      <td>1.0</td>\n",
              "      <td>2.0</td>\n",
              "      <td>1.0</td>\n",
              "      <td>3.0</td>\n",
              "      <td>65991211887475</td>\n",
              "      <td>Teologia</td>\n",
              "      <td>Sao Paulo</td>\n",
              "      <td>SP</td>\n",
              "      <td>Faculdade Messianica</td>\n",
              "      <td>Teologia</td>\n",
              "      <td>584.34</td>\n",
              "      <td>450.00</td>\n",
              "      <td>489.28</td>\n",
              "      <td>450.00</td>\n",
              "    </tr>\n",
              "    <tr>\n",
              "      <th>2199</th>\n",
              "      <td>Bacharelado</td>\n",
              "      <td>Curso a Distância</td>\n",
              "      <td>189.00</td>\n",
              "      <td>1.0</td>\n",
              "      <td>1.0</td>\n",
              "      <td>1.0</td>\n",
              "      <td>3.0</td>\n",
              "      <td>104980411887475</td>\n",
              "      <td>Teologia</td>\n",
              "      <td>Sao Paulo</td>\n",
              "      <td>SP</td>\n",
              "      <td>Faculdade Messianica</td>\n",
              "      <td>Teologia</td>\n",
              "      <td>450.00</td>\n",
              "      <td>450.00</td>\n",
              "      <td>450.00</td>\n",
              "      <td>450.00</td>\n",
              "    </tr>\n",
              "    <tr>\n",
              "      <th>2200</th>\n",
              "      <td>Licenciatura</td>\n",
              "      <td>Curso a Distância</td>\n",
              "      <td>189.00</td>\n",
              "      <td>1.0</td>\n",
              "      <td>1.0</td>\n",
              "      <td>1.0</td>\n",
              "      <td>3.0</td>\n",
              "      <td>65991213655645</td>\n",
              "      <td>Pedagogia</td>\n",
              "      <td>Sao Paulo</td>\n",
              "      <td>SP</td>\n",
              "      <td>Faculdade Messianica</td>\n",
              "      <td>Pedagogia</td>\n",
              "      <td>497.78</td>\n",
              "      <td>506.78</td>\n",
              "      <td>508.48</td>\n",
              "      <td>451.78</td>\n",
              "    </tr>\n",
              "    <tr>\n",
              "      <th>2201</th>\n",
              "      <td>Tecnológico</td>\n",
              "      <td>Noturno</td>\n",
              "      <td>188.00</td>\n",
              "      <td>1.0</td>\n",
              "      <td>2.0</td>\n",
              "      <td>1.0</td>\n",
              "      <td>9.0</td>\n",
              "      <td>65868713317703</td>\n",
              "      <td>Gestão da Qualidade</td>\n",
              "      <td>Sao VIcente</td>\n",
              "      <td>SP</td>\n",
              "      <td>Faculdade de São VIcente - FSV</td>\n",
              "      <td>Gestão da Qualidade</td>\n",
              "      <td>456.66</td>\n",
              "      <td>450.00</td>\n",
              "      <td>450.00</td>\n",
              "      <td>450.00</td>\n",
              "    </tr>\n",
              "    <tr>\n",
              "      <th>2202</th>\n",
              "      <td>Tecnológico</td>\n",
              "      <td>Curso a Distância</td>\n",
              "      <td>144.00</td>\n",
              "      <td>1.0</td>\n",
              "      <td>2.0</td>\n",
              "      <td>2.0</td>\n",
              "      <td>5.0</td>\n",
              "      <td>65868712869275</td>\n",
              "      <td>Marketing</td>\n",
              "      <td>Sao VIcente</td>\n",
              "      <td>SP</td>\n",
              "      <td>Faculdade de São VIcente - FSV</td>\n",
              "      <td>Marketing</td>\n",
              "      <td>533.34</td>\n",
              "      <td>450.00</td>\n",
              "      <td>450.00</td>\n",
              "      <td>450.00</td>\n",
              "    </tr>\n",
              "  </tbody>\n",
              "</table>\n",
              "<p>2203 rows × 17 columns</p>\n",
              "</div>\n",
              "      <button class=\"colab-df-convert\" onclick=\"convertToInteractive('df-0ef847ae-9ac4-4bfe-8abd-0a8861dc9a50')\"\n",
              "              title=\"Convert this dataframe to an interactive table.\"\n",
              "              style=\"display:none;\">\n",
              "        \n",
              "  <svg xmlns=\"http://www.w3.org/2000/svg\" height=\"24px\"viewBox=\"0 0 24 24\"\n",
              "       width=\"24px\">\n",
              "    <path d=\"M0 0h24v24H0V0z\" fill=\"none\"/>\n",
              "    <path d=\"M18.56 5.44l.94 2.06.94-2.06 2.06-.94-2.06-.94-.94-2.06-.94 2.06-2.06.94zm-11 1L8.5 8.5l.94-2.06 2.06-.94-2.06-.94L8.5 2.5l-.94 2.06-2.06.94zm10 10l.94 2.06.94-2.06 2.06-.94-2.06-.94-.94-2.06-.94 2.06-2.06.94z\"/><path d=\"M17.41 7.96l-1.37-1.37c-.4-.4-.92-.59-1.43-.59-.52 0-1.04.2-1.43.59L10.3 9.45l-7.72 7.72c-.78.78-.78 2.05 0 2.83L4 21.41c.39.39.9.59 1.41.59.51 0 1.02-.2 1.41-.59l7.78-7.78 2.81-2.81c.8-.78.8-2.07 0-2.86zM5.41 20L4 18.59l7.72-7.72 1.47 1.35L5.41 20z\"/>\n",
              "  </svg>\n",
              "      </button>\n",
              "      \n",
              "  <style>\n",
              "    .colab-df-container {\n",
              "      display:flex;\n",
              "      flex-wrap:wrap;\n",
              "      gap: 12px;\n",
              "    }\n",
              "\n",
              "    .colab-df-convert {\n",
              "      background-color: #E8F0FE;\n",
              "      border: none;\n",
              "      border-radius: 50%;\n",
              "      cursor: pointer;\n",
              "      display: none;\n",
              "      fill: #1967D2;\n",
              "      height: 32px;\n",
              "      padding: 0 0 0 0;\n",
              "      width: 32px;\n",
              "    }\n",
              "\n",
              "    .colab-df-convert:hover {\n",
              "      background-color: #E2EBFA;\n",
              "      box-shadow: 0px 1px 2px rgba(60, 64, 67, 0.3), 0px 1px 3px 1px rgba(60, 64, 67, 0.15);\n",
              "      fill: #174EA6;\n",
              "    }\n",
              "\n",
              "    [theme=dark] .colab-df-convert {\n",
              "      background-color: #3B4455;\n",
              "      fill: #D2E3FC;\n",
              "    }\n",
              "\n",
              "    [theme=dark] .colab-df-convert:hover {\n",
              "      background-color: #434B5C;\n",
              "      box-shadow: 0px 1px 3px 1px rgba(0, 0, 0, 0.15);\n",
              "      filter: drop-shadow(0px 1px 2px rgba(0, 0, 0, 0.3));\n",
              "      fill: #FFFFFF;\n",
              "    }\n",
              "  </style>\n",
              "\n",
              "      <script>\n",
              "        const buttonEl =\n",
              "          document.querySelector('#df-0ef847ae-9ac4-4bfe-8abd-0a8861dc9a50 button.colab-df-convert');\n",
              "        buttonEl.style.display =\n",
              "          google.colab.kernel.accessAllowed ? 'block' : 'none';\n",
              "\n",
              "        async function convertToInteractive(key) {\n",
              "          const element = document.querySelector('#df-0ef847ae-9ac4-4bfe-8abd-0a8861dc9a50');\n",
              "          const dataTable =\n",
              "            await google.colab.kernel.invokeFunction('convertToInteractive',\n",
              "                                                     [key], {});\n",
              "          if (!dataTable) return;\n",
              "\n",
              "          const docLinkHtml = 'Like what you see? Visit the ' +\n",
              "            '<a target=\"_blank\" href=https://colab.research.google.com/notebooks/data_table.ipynb>data table notebook</a>'\n",
              "            + ' to learn more about interactive tables.';\n",
              "          element.innerHTML = '';\n",
              "          dataTable['output_type'] = 'display_data';\n",
              "          await google.colab.output.renderOutput(dataTable, element);\n",
              "          const docLink = document.createElement('div');\n",
              "          docLink.innerHTML = docLinkHtml;\n",
              "          element.appendChild(docLink);\n",
              "        }\n",
              "      </script>\n",
              "    </div>\n",
              "  </div>\n",
              "  "
            ]
          },
          "metadata": {},
          "execution_count": 4
        }
      ]
    },
    {
      "cell_type": "code",
      "source": [
        "cursos_sp = df.loc[df.cidade_busca == 'Sao Paulo']"
      ],
      "metadata": {
        "id": "9EpHthPXC4XU"
      },
      "execution_count": null,
      "outputs": []
    },
    {
      "cell_type": "code",
      "source": [
        "cursos_sp.head()"
      ],
      "metadata": {
        "colab": {
          "base_uri": "https://localhost:8080/",
          "height": 392
        },
        "id": "eHWSUk8bEbPh",
        "outputId": "72b217fe-9799-4307-fa09-4099df6937c4"
      },
      "execution_count": null,
      "outputs": [
        {
          "output_type": "execute_result",
          "data": {
            "text/plain": [
              "           grau       turno  mensalidade  bolsa_integral_cotas  \\\n",
              "0   Bacharelado    Integral      9715.61                   2.0   \n",
              "6   Bacharelado    Integral      8200.00                   2.0   \n",
              "29  Tecnológico  Vespertino      2299.00                   1.0   \n",
              "30  Tecnológico     Noturno      2299.00                   1.0   \n",
              "40  Bacharelado    Matutino      2173.84                   1.0   \n",
              "\n",
              "    bolsa_integral_ampla  bolsa_parcial_cotas  bolsa_parcial_ampla  \\\n",
              "0                    5.0                  6.0                 10.0   \n",
              "6                    3.0                  4.0                  7.0   \n",
              "29                   1.0                  1.0                  3.0   \n",
              "30                   3.0                  2.0                  3.0   \n",
              "40                   2.0                  1.0                  2.0   \n",
              "\n",
              "           curso_id  curso_busca cidade_busca uf_busca  \\\n",
              "0     1002328574024     Medicina    Sao Paulo       SP   \n",
              "6   105596711902804     Medicina    Sao Paulo       SP   \n",
              "29     659695725572  Gastronomia    Sao Paulo       SP   \n",
              "30     659695725573  Gastronomia    Sao Paulo       SP   \n",
              "40     100232885791  Odontologia    Sao Paulo       SP   \n",
              "\n",
              "                            universidade_nome         nome  \\\n",
              "0   Universidade Cidade de São Paulo - UNICID     Medicina   \n",
              "6                Faculdade das Américas - FAM     Medicina   \n",
              "29       Centro Universitário Senac - SENACSP  Gastronomia   \n",
              "30       Centro Universitário Senac - SENACSP  Gastronomia   \n",
              "40  Universidade Cidade de São Paulo - UNICID  Odontologia   \n",
              "\n",
              "    nota_integral_ampla  nota_integral_cotas  nota_parcial_ampla  \\\n",
              "0                739.62               738.08              738.96   \n",
              "6                735.84               724.70              738.42   \n",
              "29               666.24               633.40              622.36   \n",
              "30               671.98               632.80              594.20   \n",
              "40               659.42               652.90              587.92   \n",
              "\n",
              "    nota_parcial_cotas  \n",
              "0               718.64  \n",
              "6               723.28  \n",
              "29              563.02  \n",
              "30              501.66  \n",
              "40              606.26  "
            ],
            "text/html": [
              "\n",
              "  <div id=\"df-7c3c6ab6-5e30-4b6a-b574-955a1bc9ee49\">\n",
              "    <div class=\"colab-df-container\">\n",
              "      <div>\n",
              "<style scoped>\n",
              "    .dataframe tbody tr th:only-of-type {\n",
              "        vertical-align: middle;\n",
              "    }\n",
              "\n",
              "    .dataframe tbody tr th {\n",
              "        vertical-align: top;\n",
              "    }\n",
              "\n",
              "    .dataframe thead th {\n",
              "        text-align: right;\n",
              "    }\n",
              "</style>\n",
              "<table border=\"1\" class=\"dataframe\">\n",
              "  <thead>\n",
              "    <tr style=\"text-align: right;\">\n",
              "      <th></th>\n",
              "      <th>grau</th>\n",
              "      <th>turno</th>\n",
              "      <th>mensalidade</th>\n",
              "      <th>bolsa_integral_cotas</th>\n",
              "      <th>bolsa_integral_ampla</th>\n",
              "      <th>bolsa_parcial_cotas</th>\n",
              "      <th>bolsa_parcial_ampla</th>\n",
              "      <th>curso_id</th>\n",
              "      <th>curso_busca</th>\n",
              "      <th>cidade_busca</th>\n",
              "      <th>uf_busca</th>\n",
              "      <th>universidade_nome</th>\n",
              "      <th>nome</th>\n",
              "      <th>nota_integral_ampla</th>\n",
              "      <th>nota_integral_cotas</th>\n",
              "      <th>nota_parcial_ampla</th>\n",
              "      <th>nota_parcial_cotas</th>\n",
              "    </tr>\n",
              "  </thead>\n",
              "  <tbody>\n",
              "    <tr>\n",
              "      <th>0</th>\n",
              "      <td>Bacharelado</td>\n",
              "      <td>Integral</td>\n",
              "      <td>9715.61</td>\n",
              "      <td>2.0</td>\n",
              "      <td>5.0</td>\n",
              "      <td>6.0</td>\n",
              "      <td>10.0</td>\n",
              "      <td>1002328574024</td>\n",
              "      <td>Medicina</td>\n",
              "      <td>Sao Paulo</td>\n",
              "      <td>SP</td>\n",
              "      <td>Universidade Cidade de São Paulo - UNICID</td>\n",
              "      <td>Medicina</td>\n",
              "      <td>739.62</td>\n",
              "      <td>738.08</td>\n",
              "      <td>738.96</td>\n",
              "      <td>718.64</td>\n",
              "    </tr>\n",
              "    <tr>\n",
              "      <th>6</th>\n",
              "      <td>Bacharelado</td>\n",
              "      <td>Integral</td>\n",
              "      <td>8200.00</td>\n",
              "      <td>2.0</td>\n",
              "      <td>3.0</td>\n",
              "      <td>4.0</td>\n",
              "      <td>7.0</td>\n",
              "      <td>105596711902804</td>\n",
              "      <td>Medicina</td>\n",
              "      <td>Sao Paulo</td>\n",
              "      <td>SP</td>\n",
              "      <td>Faculdade das Américas - FAM</td>\n",
              "      <td>Medicina</td>\n",
              "      <td>735.84</td>\n",
              "      <td>724.70</td>\n",
              "      <td>738.42</td>\n",
              "      <td>723.28</td>\n",
              "    </tr>\n",
              "    <tr>\n",
              "      <th>29</th>\n",
              "      <td>Tecnológico</td>\n",
              "      <td>Vespertino</td>\n",
              "      <td>2299.00</td>\n",
              "      <td>1.0</td>\n",
              "      <td>1.0</td>\n",
              "      <td>1.0</td>\n",
              "      <td>3.0</td>\n",
              "      <td>659695725572</td>\n",
              "      <td>Gastronomia</td>\n",
              "      <td>Sao Paulo</td>\n",
              "      <td>SP</td>\n",
              "      <td>Centro Universitário Senac - SENACSP</td>\n",
              "      <td>Gastronomia</td>\n",
              "      <td>666.24</td>\n",
              "      <td>633.40</td>\n",
              "      <td>622.36</td>\n",
              "      <td>563.02</td>\n",
              "    </tr>\n",
              "    <tr>\n",
              "      <th>30</th>\n",
              "      <td>Tecnológico</td>\n",
              "      <td>Noturno</td>\n",
              "      <td>2299.00</td>\n",
              "      <td>1.0</td>\n",
              "      <td>3.0</td>\n",
              "      <td>2.0</td>\n",
              "      <td>3.0</td>\n",
              "      <td>659695725573</td>\n",
              "      <td>Gastronomia</td>\n",
              "      <td>Sao Paulo</td>\n",
              "      <td>SP</td>\n",
              "      <td>Centro Universitário Senac - SENACSP</td>\n",
              "      <td>Gastronomia</td>\n",
              "      <td>671.98</td>\n",
              "      <td>632.80</td>\n",
              "      <td>594.20</td>\n",
              "      <td>501.66</td>\n",
              "    </tr>\n",
              "    <tr>\n",
              "      <th>40</th>\n",
              "      <td>Bacharelado</td>\n",
              "      <td>Matutino</td>\n",
              "      <td>2173.84</td>\n",
              "      <td>1.0</td>\n",
              "      <td>2.0</td>\n",
              "      <td>1.0</td>\n",
              "      <td>2.0</td>\n",
              "      <td>100232885791</td>\n",
              "      <td>Odontologia</td>\n",
              "      <td>Sao Paulo</td>\n",
              "      <td>SP</td>\n",
              "      <td>Universidade Cidade de São Paulo - UNICID</td>\n",
              "      <td>Odontologia</td>\n",
              "      <td>659.42</td>\n",
              "      <td>652.90</td>\n",
              "      <td>587.92</td>\n",
              "      <td>606.26</td>\n",
              "    </tr>\n",
              "  </tbody>\n",
              "</table>\n",
              "</div>\n",
              "      <button class=\"colab-df-convert\" onclick=\"convertToInteractive('df-7c3c6ab6-5e30-4b6a-b574-955a1bc9ee49')\"\n",
              "              title=\"Convert this dataframe to an interactive table.\"\n",
              "              style=\"display:none;\">\n",
              "        \n",
              "  <svg xmlns=\"http://www.w3.org/2000/svg\" height=\"24px\"viewBox=\"0 0 24 24\"\n",
              "       width=\"24px\">\n",
              "    <path d=\"M0 0h24v24H0V0z\" fill=\"none\"/>\n",
              "    <path d=\"M18.56 5.44l.94 2.06.94-2.06 2.06-.94-2.06-.94-.94-2.06-.94 2.06-2.06.94zm-11 1L8.5 8.5l.94-2.06 2.06-.94-2.06-.94L8.5 2.5l-.94 2.06-2.06.94zm10 10l.94 2.06.94-2.06 2.06-.94-2.06-.94-.94-2.06-.94 2.06-2.06.94z\"/><path d=\"M17.41 7.96l-1.37-1.37c-.4-.4-.92-.59-1.43-.59-.52 0-1.04.2-1.43.59L10.3 9.45l-7.72 7.72c-.78.78-.78 2.05 0 2.83L4 21.41c.39.39.9.59 1.41.59.51 0 1.02-.2 1.41-.59l7.78-7.78 2.81-2.81c.8-.78.8-2.07 0-2.86zM5.41 20L4 18.59l7.72-7.72 1.47 1.35L5.41 20z\"/>\n",
              "  </svg>\n",
              "      </button>\n",
              "      \n",
              "  <style>\n",
              "    .colab-df-container {\n",
              "      display:flex;\n",
              "      flex-wrap:wrap;\n",
              "      gap: 12px;\n",
              "    }\n",
              "\n",
              "    .colab-df-convert {\n",
              "      background-color: #E8F0FE;\n",
              "      border: none;\n",
              "      border-radius: 50%;\n",
              "      cursor: pointer;\n",
              "      display: none;\n",
              "      fill: #1967D2;\n",
              "      height: 32px;\n",
              "      padding: 0 0 0 0;\n",
              "      width: 32px;\n",
              "    }\n",
              "\n",
              "    .colab-df-convert:hover {\n",
              "      background-color: #E2EBFA;\n",
              "      box-shadow: 0px 1px 2px rgba(60, 64, 67, 0.3), 0px 1px 3px 1px rgba(60, 64, 67, 0.15);\n",
              "      fill: #174EA6;\n",
              "    }\n",
              "\n",
              "    [theme=dark] .colab-df-convert {\n",
              "      background-color: #3B4455;\n",
              "      fill: #D2E3FC;\n",
              "    }\n",
              "\n",
              "    [theme=dark] .colab-df-convert:hover {\n",
              "      background-color: #434B5C;\n",
              "      box-shadow: 0px 1px 3px 1px rgba(0, 0, 0, 0.15);\n",
              "      filter: drop-shadow(0px 1px 2px rgba(0, 0, 0, 0.3));\n",
              "      fill: #FFFFFF;\n",
              "    }\n",
              "  </style>\n",
              "\n",
              "      <script>\n",
              "        const buttonEl =\n",
              "          document.querySelector('#df-7c3c6ab6-5e30-4b6a-b574-955a1bc9ee49 button.colab-df-convert');\n",
              "        buttonEl.style.display =\n",
              "          google.colab.kernel.accessAllowed ? 'block' : 'none';\n",
              "\n",
              "        async function convertToInteractive(key) {\n",
              "          const element = document.querySelector('#df-7c3c6ab6-5e30-4b6a-b574-955a1bc9ee49');\n",
              "          const dataTable =\n",
              "            await google.colab.kernel.invokeFunction('convertToInteractive',\n",
              "                                                     [key], {});\n",
              "          if (!dataTable) return;\n",
              "\n",
              "          const docLinkHtml = 'Like what you see? Visit the ' +\n",
              "            '<a target=\"_blank\" href=https://colab.research.google.com/notebooks/data_table.ipynb>data table notebook</a>'\n",
              "            + ' to learn more about interactive tables.';\n",
              "          element.innerHTML = '';\n",
              "          dataTable['output_type'] = 'display_data';\n",
              "          await google.colab.output.renderOutput(dataTable, element);\n",
              "          const docLink = document.createElement('div');\n",
              "          docLink.innerHTML = docLinkHtml;\n",
              "          element.appendChild(docLink);\n",
              "        }\n",
              "      </script>\n",
              "    </div>\n",
              "  </div>\n",
              "  "
            ]
          },
          "metadata": {},
          "execution_count": 10
        }
      ]
    },
    {
      "cell_type": "code",
      "source": [
        "cursos_cwb = df.loc[df.cidade_busca == 'Curitiba']"
      ],
      "metadata": {
        "id": "lOtjtPjWGd8N"
      },
      "execution_count": null,
      "outputs": []
    },
    {
      "cell_type": "code",
      "source": [
        "cursos_cwb.head()"
      ],
      "metadata": {
        "colab": {
          "base_uri": "https://localhost:8080/",
          "height": 392
        },
        "id": "tnPpMI-mGizq",
        "outputId": "176df7ca-6ed0-4c2d-b28f-384ff28bac9e"
      },
      "execution_count": null,
      "outputs": [
        {
          "output_type": "execute_result",
          "data": {
            "text/plain": [
              "            grau     turno  mensalidade  bolsa_integral_cotas  \\\n",
              "49   Bacharelado   Noturno      1998.14                   1.0   \n",
              "59   Bacharelado  Matutino      1974.00                   2.0   \n",
              "101  Bacharelado  Matutino      1629.14                   1.0   \n",
              "102  Bacharelado   Noturno      1629.14                   1.0   \n",
              "160  Bacharelado   Noturno      1451.60                   1.0   \n",
              "\n",
              "     bolsa_integral_ampla  bolsa_parcial_cotas  bolsa_parcial_ampla  \\\n",
              "49                    1.0                  1.0                  1.0   \n",
              "59                    5.0                  3.0                  7.0   \n",
              "101                   1.0                  1.0                  2.0   \n",
              "102                   1.0                  1.0                  1.0   \n",
              "160                   2.0                  1.0                  4.0   \n",
              "\n",
              "           curso_id           curso_busca cidade_busca uf_busca  \\\n",
              "49     333421069403   Engenharia Mecânica     Curitiba       PR   \n",
              "59   65955614098351  Medicina Veterinária     Curitiba       PR   \n",
              "101    333421102981            Psicologia     Curitiba       PR   \n",
              "102    333421102983            Psicologia     Curitiba       PR   \n",
              "160    659556968573            Psicologia     Curitiba       PR   \n",
              "\n",
              "                                     universidade_nome                  nome  \\\n",
              "49                      Fae Centro Universitário - FAE   Engenharia Mecânica   \n",
              "59   Centro Universitário Autônomo do Brasil - Unib...  Medicina Veterinária   \n",
              "101                     Fae Centro Universitário - FAE            Psicologia   \n",
              "102                     Fae Centro Universitário - FAE            Psicologia   \n",
              "160  Centro Universitário Autônomo do Brasil - Unib...            Psicologia   \n",
              "\n",
              "     nota_integral_ampla  nota_integral_cotas  nota_parcial_ampla  \\\n",
              "49                648.60               623.16              639.56   \n",
              "59                641.98               601.86              615.90   \n",
              "101               636.60               638.20              622.40   \n",
              "102               630.88               616.06              686.06   \n",
              "160               649.72               632.82              616.42   \n",
              "\n",
              "     nota_parcial_cotas  \n",
              "49               541.16  \n",
              "59               595.76  \n",
              "101              573.90  \n",
              "102              599.32  \n",
              "160              595.12  "
            ],
            "text/html": [
              "\n",
              "  <div id=\"df-510bb2f9-126c-4946-aa44-6c38825e9e72\">\n",
              "    <div class=\"colab-df-container\">\n",
              "      <div>\n",
              "<style scoped>\n",
              "    .dataframe tbody tr th:only-of-type {\n",
              "        vertical-align: middle;\n",
              "    }\n",
              "\n",
              "    .dataframe tbody tr th {\n",
              "        vertical-align: top;\n",
              "    }\n",
              "\n",
              "    .dataframe thead th {\n",
              "        text-align: right;\n",
              "    }\n",
              "</style>\n",
              "<table border=\"1\" class=\"dataframe\">\n",
              "  <thead>\n",
              "    <tr style=\"text-align: right;\">\n",
              "      <th></th>\n",
              "      <th>grau</th>\n",
              "      <th>turno</th>\n",
              "      <th>mensalidade</th>\n",
              "      <th>bolsa_integral_cotas</th>\n",
              "      <th>bolsa_integral_ampla</th>\n",
              "      <th>bolsa_parcial_cotas</th>\n",
              "      <th>bolsa_parcial_ampla</th>\n",
              "      <th>curso_id</th>\n",
              "      <th>curso_busca</th>\n",
              "      <th>cidade_busca</th>\n",
              "      <th>uf_busca</th>\n",
              "      <th>universidade_nome</th>\n",
              "      <th>nome</th>\n",
              "      <th>nota_integral_ampla</th>\n",
              "      <th>nota_integral_cotas</th>\n",
              "      <th>nota_parcial_ampla</th>\n",
              "      <th>nota_parcial_cotas</th>\n",
              "    </tr>\n",
              "  </thead>\n",
              "  <tbody>\n",
              "    <tr>\n",
              "      <th>49</th>\n",
              "      <td>Bacharelado</td>\n",
              "      <td>Noturno</td>\n",
              "      <td>1998.14</td>\n",
              "      <td>1.0</td>\n",
              "      <td>1.0</td>\n",
              "      <td>1.0</td>\n",
              "      <td>1.0</td>\n",
              "      <td>333421069403</td>\n",
              "      <td>Engenharia Mecânica</td>\n",
              "      <td>Curitiba</td>\n",
              "      <td>PR</td>\n",
              "      <td>Fae Centro Universitário - FAE</td>\n",
              "      <td>Engenharia Mecânica</td>\n",
              "      <td>648.60</td>\n",
              "      <td>623.16</td>\n",
              "      <td>639.56</td>\n",
              "      <td>541.16</td>\n",
              "    </tr>\n",
              "    <tr>\n",
              "      <th>59</th>\n",
              "      <td>Bacharelado</td>\n",
              "      <td>Matutino</td>\n",
              "      <td>1974.00</td>\n",
              "      <td>2.0</td>\n",
              "      <td>5.0</td>\n",
              "      <td>3.0</td>\n",
              "      <td>7.0</td>\n",
              "      <td>65955614098351</td>\n",
              "      <td>Medicina Veterinária</td>\n",
              "      <td>Curitiba</td>\n",
              "      <td>PR</td>\n",
              "      <td>Centro Universitário Autônomo do Brasil - Unib...</td>\n",
              "      <td>Medicina Veterinária</td>\n",
              "      <td>641.98</td>\n",
              "      <td>601.86</td>\n",
              "      <td>615.90</td>\n",
              "      <td>595.76</td>\n",
              "    </tr>\n",
              "    <tr>\n",
              "      <th>101</th>\n",
              "      <td>Bacharelado</td>\n",
              "      <td>Matutino</td>\n",
              "      <td>1629.14</td>\n",
              "      <td>1.0</td>\n",
              "      <td>1.0</td>\n",
              "      <td>1.0</td>\n",
              "      <td>2.0</td>\n",
              "      <td>333421102981</td>\n",
              "      <td>Psicologia</td>\n",
              "      <td>Curitiba</td>\n",
              "      <td>PR</td>\n",
              "      <td>Fae Centro Universitário - FAE</td>\n",
              "      <td>Psicologia</td>\n",
              "      <td>636.60</td>\n",
              "      <td>638.20</td>\n",
              "      <td>622.40</td>\n",
              "      <td>573.90</td>\n",
              "    </tr>\n",
              "    <tr>\n",
              "      <th>102</th>\n",
              "      <td>Bacharelado</td>\n",
              "      <td>Noturno</td>\n",
              "      <td>1629.14</td>\n",
              "      <td>1.0</td>\n",
              "      <td>1.0</td>\n",
              "      <td>1.0</td>\n",
              "      <td>1.0</td>\n",
              "      <td>333421102983</td>\n",
              "      <td>Psicologia</td>\n",
              "      <td>Curitiba</td>\n",
              "      <td>PR</td>\n",
              "      <td>Fae Centro Universitário - FAE</td>\n",
              "      <td>Psicologia</td>\n",
              "      <td>630.88</td>\n",
              "      <td>616.06</td>\n",
              "      <td>686.06</td>\n",
              "      <td>599.32</td>\n",
              "    </tr>\n",
              "    <tr>\n",
              "      <th>160</th>\n",
              "      <td>Bacharelado</td>\n",
              "      <td>Noturno</td>\n",
              "      <td>1451.60</td>\n",
              "      <td>1.0</td>\n",
              "      <td>2.0</td>\n",
              "      <td>1.0</td>\n",
              "      <td>4.0</td>\n",
              "      <td>659556968573</td>\n",
              "      <td>Psicologia</td>\n",
              "      <td>Curitiba</td>\n",
              "      <td>PR</td>\n",
              "      <td>Centro Universitário Autônomo do Brasil - Unib...</td>\n",
              "      <td>Psicologia</td>\n",
              "      <td>649.72</td>\n",
              "      <td>632.82</td>\n",
              "      <td>616.42</td>\n",
              "      <td>595.12</td>\n",
              "    </tr>\n",
              "  </tbody>\n",
              "</table>\n",
              "</div>\n",
              "      <button class=\"colab-df-convert\" onclick=\"convertToInteractive('df-510bb2f9-126c-4946-aa44-6c38825e9e72')\"\n",
              "              title=\"Convert this dataframe to an interactive table.\"\n",
              "              style=\"display:none;\">\n",
              "        \n",
              "  <svg xmlns=\"http://www.w3.org/2000/svg\" height=\"24px\"viewBox=\"0 0 24 24\"\n",
              "       width=\"24px\">\n",
              "    <path d=\"M0 0h24v24H0V0z\" fill=\"none\"/>\n",
              "    <path d=\"M18.56 5.44l.94 2.06.94-2.06 2.06-.94-2.06-.94-.94-2.06-.94 2.06-2.06.94zm-11 1L8.5 8.5l.94-2.06 2.06-.94-2.06-.94L8.5 2.5l-.94 2.06-2.06.94zm10 10l.94 2.06.94-2.06 2.06-.94-2.06-.94-.94-2.06-.94 2.06-2.06.94z\"/><path d=\"M17.41 7.96l-1.37-1.37c-.4-.4-.92-.59-1.43-.59-.52 0-1.04.2-1.43.59L10.3 9.45l-7.72 7.72c-.78.78-.78 2.05 0 2.83L4 21.41c.39.39.9.59 1.41.59.51 0 1.02-.2 1.41-.59l7.78-7.78 2.81-2.81c.8-.78.8-2.07 0-2.86zM5.41 20L4 18.59l7.72-7.72 1.47 1.35L5.41 20z\"/>\n",
              "  </svg>\n",
              "      </button>\n",
              "      \n",
              "  <style>\n",
              "    .colab-df-container {\n",
              "      display:flex;\n",
              "      flex-wrap:wrap;\n",
              "      gap: 12px;\n",
              "    }\n",
              "\n",
              "    .colab-df-convert {\n",
              "      background-color: #E8F0FE;\n",
              "      border: none;\n",
              "      border-radius: 50%;\n",
              "      cursor: pointer;\n",
              "      display: none;\n",
              "      fill: #1967D2;\n",
              "      height: 32px;\n",
              "      padding: 0 0 0 0;\n",
              "      width: 32px;\n",
              "    }\n",
              "\n",
              "    .colab-df-convert:hover {\n",
              "      background-color: #E2EBFA;\n",
              "      box-shadow: 0px 1px 2px rgba(60, 64, 67, 0.3), 0px 1px 3px 1px rgba(60, 64, 67, 0.15);\n",
              "      fill: #174EA6;\n",
              "    }\n",
              "\n",
              "    [theme=dark] .colab-df-convert {\n",
              "      background-color: #3B4455;\n",
              "      fill: #D2E3FC;\n",
              "    }\n",
              "\n",
              "    [theme=dark] .colab-df-convert:hover {\n",
              "      background-color: #434B5C;\n",
              "      box-shadow: 0px 1px 3px 1px rgba(0, 0, 0, 0.15);\n",
              "      filter: drop-shadow(0px 1px 2px rgba(0, 0, 0, 0.3));\n",
              "      fill: #FFFFFF;\n",
              "    }\n",
              "  </style>\n",
              "\n",
              "      <script>\n",
              "        const buttonEl =\n",
              "          document.querySelector('#df-510bb2f9-126c-4946-aa44-6c38825e9e72 button.colab-df-convert');\n",
              "        buttonEl.style.display =\n",
              "          google.colab.kernel.accessAllowed ? 'block' : 'none';\n",
              "\n",
              "        async function convertToInteractive(key) {\n",
              "          const element = document.querySelector('#df-510bb2f9-126c-4946-aa44-6c38825e9e72');\n",
              "          const dataTable =\n",
              "            await google.colab.kernel.invokeFunction('convertToInteractive',\n",
              "                                                     [key], {});\n",
              "          if (!dataTable) return;\n",
              "\n",
              "          const docLinkHtml = 'Like what you see? Visit the ' +\n",
              "            '<a target=\"_blank\" href=https://colab.research.google.com/notebooks/data_table.ipynb>data table notebook</a>'\n",
              "            + ' to learn more about interactive tables.';\n",
              "          element.innerHTML = '';\n",
              "          dataTable['output_type'] = 'display_data';\n",
              "          await google.colab.output.renderOutput(dataTable, element);\n",
              "          const docLink = document.createElement('div');\n",
              "          docLink.innerHTML = docLinkHtml;\n",
              "          element.appendChild(docLink);\n",
              "        }\n",
              "      </script>\n",
              "    </div>\n",
              "  </div>\n",
              "  "
            ]
          },
          "metadata": {},
          "execution_count": 17
        }
      ]
    },
    {
      "cell_type": "code",
      "source": [
        "cursos_sp.shape"
      ],
      "metadata": {
        "colab": {
          "base_uri": "https://localhost:8080/"
        },
        "id": "lsodNkxYG-aT",
        "outputId": "8df3639b-99e9-42fe-edfc-28a7c83fbd46"
      },
      "execution_count": null,
      "outputs": [
        {
          "output_type": "execute_result",
          "data": {
            "text/plain": [
              "(373, 17)"
            ]
          },
          "metadata": {},
          "execution_count": 18
        }
      ]
    },
    {
      "cell_type": "code",
      "source": [
        "cursos_cwb.shape"
      ],
      "metadata": {
        "colab": {
          "base_uri": "https://localhost:8080/"
        },
        "id": "6Ompzw8HHGRC",
        "outputId": "7311528a-d3d8-4bd7-8a9d-4434d58ae6a1"
      },
      "execution_count": null,
      "outputs": [
        {
          "output_type": "execute_result",
          "data": {
            "text/plain": [
              "(87, 17)"
            ]
          },
          "metadata": {},
          "execution_count": 19
        }
      ]
    },
    {
      "cell_type": "code",
      "source": [
        "len(cursos_sp)"
      ],
      "metadata": {
        "colab": {
          "base_uri": "https://localhost:8080/"
        },
        "id": "VYD0EJRwHhgR",
        "outputId": "021aac2c-602e-4981-c871-6adabed7f5bc"
      },
      "execution_count": null,
      "outputs": [
        {
          "output_type": "execute_result",
          "data": {
            "text/plain": [
              "373"
            ]
          },
          "metadata": {},
          "execution_count": 20
        }
      ]
    },
    {
      "cell_type": "code",
      "source": [
        "len(cursos_cwb)"
      ],
      "metadata": {
        "colab": {
          "base_uri": "https://localhost:8080/"
        },
        "id": "9UQ8oWwzHlGj",
        "outputId": "73ba4139-63b0-40ea-d21f-b35ba408e112"
      },
      "execution_count": null,
      "outputs": [
        {
          "output_type": "execute_result",
          "data": {
            "text/plain": [
              "87"
            ]
          },
          "metadata": {},
          "execution_count": 21
        }
      ]
    },
    {
      "cell_type": "code",
      "source": [
        "len(df)"
      ],
      "metadata": {
        "colab": {
          "base_uri": "https://localhost:8080/"
        },
        "id": "lf_z7XThIDAZ",
        "outputId": "dbaa4946-c532-44a2-d6b5-c53ed2955387"
      },
      "execution_count": null,
      "outputs": [
        {
          "output_type": "execute_result",
          "data": {
            "text/plain": [
              "2203"
            ]
          },
          "metadata": {},
          "execution_count": 24
        }
      ]
    },
    {
      "cell_type": "code",
      "source": [
        "def probab (A, E):\n",
        "  resultado = (A / E)*100 \n",
        "  print('{:.2f}'.format(resultado))"
      ],
      "metadata": {
        "id": "haL39t6YIiQV"
      },
      "execution_count": null,
      "outputs": []
    },
    {
      "cell_type": "code",
      "source": [
        "#probabilidade de achar um curso em sp\n",
        "probab (len(cursos_sp), len(df))"
      ],
      "metadata": {
        "colab": {
          "base_uri": "https://localhost:8080/"
        },
        "id": "5T9Tt3-eISj_",
        "outputId": "32b05367-6b0a-49cc-e71e-ef90ab28dd86"
      },
      "execution_count": null,
      "outputs": [
        {
          "output_type": "stream",
          "name": "stdout",
          "text": [
            "16.93\n"
          ]
        }
      ]
    },
    {
      "cell_type": "code",
      "source": [
        "#probabilidade de achar um curso em curitiba\n",
        "probab (len(cursos_cwb), len(df))"
      ],
      "metadata": {
        "colab": {
          "base_uri": "https://localhost:8080/"
        },
        "id": "tDexzZUdIt__",
        "outputId": "72490ce6-541c-4425-802b-aba55b5880cf"
      },
      "execution_count": null,
      "outputs": [
        {
          "output_type": "stream",
          "name": "stdout",
          "text": [
            "3.95\n"
          ]
        }
      ]
    },
    {
      "cell_type": "code",
      "source": [
        "def probab_nao (A, E):\n",
        "  resultado = (1- (A / E))*100 \n",
        "  print('{:.2f}'.format(resultado))"
      ],
      "metadata": {
        "id": "blyisAXlJNSZ"
      },
      "execution_count": null,
      "outputs": []
    },
    {
      "cell_type": "code",
      "source": [
        "#probabilidade de não achar um curso em curitiba\n",
        "probab_nao (len(cursos_cwb), len(df))"
      ],
      "metadata": {
        "colab": {
          "base_uri": "https://localhost:8080/"
        },
        "id": "-zeI2LyLJRFW",
        "outputId": "c9d3c066-f705-43c2-f1f4-334c43a09bc3"
      },
      "execution_count": null,
      "outputs": [
        {
          "output_type": "stream",
          "name": "stdout",
          "text": [
            "96.05\n"
          ]
        }
      ]
    },
    {
      "cell_type": "code",
      "source": [
        "#probabilidade de não achar um curso em curitiba e nem em sp\n",
        "probab_nao (len(cursos_cwb)+len(cursos_sp), len(df))"
      ],
      "metadata": {
        "colab": {
          "base_uri": "https://localhost:8080/"
        },
        "id": "0ecsFbHdJusd",
        "outputId": "5be6179d-01cc-4436-90aa-3b12bf887f57"
      },
      "execution_count": null,
      "outputs": [
        {
          "output_type": "stream",
          "name": "stdout",
          "text": [
            "79.12\n"
          ]
        }
      ]
    },
    {
      "cell_type": "code",
      "source": [
        "#teste de hipóteses\n",
        "\n",
        "df"
      ],
      "metadata": {
        "colab": {
          "base_uri": "https://localhost:8080/",
          "height": 713
        },
        "id": "UgCLzhYynHg0",
        "outputId": "d5c18eff-9c49-464e-9240-04099f16bd8e"
      },
      "execution_count": null,
      "outputs": [
        {
          "output_type": "execute_result",
          "data": {
            "text/plain": [
              "              grau              turno  mensalidade  bolsa_integral_cotas  \\\n",
              "0      Bacharelado           Integral      9715.61                   2.0   \n",
              "1      Bacharelado           Integral      9674.34                   4.0   \n",
              "2      Bacharelado           Integral      9023.07                   4.0   \n",
              "3      Bacharelado           Integral      8508.54                   2.0   \n",
              "4      Bacharelado           Integral      8281.38                   3.0   \n",
              "...            ...                ...          ...                   ...   \n",
              "2198   Bacharelado  Curso a Distância       189.00                   1.0   \n",
              "2199   Bacharelado  Curso a Distância       189.00                   1.0   \n",
              "2200  Licenciatura  Curso a Distância       189.00                   1.0   \n",
              "2201   Tecnológico            Noturno       188.00                   1.0   \n",
              "2202   Tecnológico  Curso a Distância       144.00                   1.0   \n",
              "\n",
              "      bolsa_integral_ampla  bolsa_parcial_cotas  bolsa_parcial_ampla  \\\n",
              "0                      5.0                  6.0                 10.0   \n",
              "1                      1.0                  5.0                  2.0   \n",
              "2                      4.0                  5.0                  5.0   \n",
              "3                      1.0                  7.0                  2.0   \n",
              "4                      1.0                  6.0                  2.0   \n",
              "...                    ...                  ...                  ...   \n",
              "2198                   2.0                  1.0                  3.0   \n",
              "2199                   1.0                  1.0                  3.0   \n",
              "2200                   1.0                  1.0                  3.0   \n",
              "2201                   2.0                  1.0                  9.0   \n",
              "2202                   2.0                  2.0                  5.0   \n",
              "\n",
              "             curso_id          curso_busca cidade_busca uf_busca  \\\n",
              "0       1002328574024             Medicina    Sao Paulo       SP   \n",
              "1      65899611932754             Medicina   Rio Branco       AC   \n",
              "2      65921511844324             Medicina    Itaperuna       RJ   \n",
              "3     104123711716094             Medicina        Belem       PA   \n",
              "4     105887911921884             Medicina   Imperatriz       MA   \n",
              "...               ...                  ...          ...      ...   \n",
              "2198   65991211887475             Teologia    Sao Paulo       SP   \n",
              "2199  104980411887475             Teologia    Sao Paulo       SP   \n",
              "2200   65991213655645            Pedagogia    Sao Paulo       SP   \n",
              "2201   65868713317703  Gestão da Qualidade  Sao VIcente       SP   \n",
              "2202   65868712869275            Marketing  Sao VIcente       SP   \n",
              "\n",
              "                                universidade_nome                 nome  \\\n",
              "0       Universidade Cidade de São Paulo - UNICID             Medicina   \n",
              "1             Faculdade Barão do Rio Branco - FAB             Medicina   \n",
              "2                Faculdade Redentor - FACREDENTOR             Medicina   \n",
              "3     Faculdade Metropolitana da Amazônia - FAMAZ             Medicina   \n",
              "4     Universidade do Ceuma - Uniceuma - UNICEUMA             Medicina   \n",
              "...                                           ...                  ...   \n",
              "2198                         Faculdade Messianica             Teologia   \n",
              "2199                         Faculdade Messianica             Teologia   \n",
              "2200                         Faculdade Messianica            Pedagogia   \n",
              "2201               Faculdade de São VIcente - FSV  Gestão da Qualidade   \n",
              "2202               Faculdade de São VIcente - FSV            Marketing   \n",
              "\n",
              "      nota_integral_ampla  nota_integral_cotas  nota_parcial_ampla  \\\n",
              "0                  739.62               738.08              738.96   \n",
              "1                  758.32               723.94              734.92   \n",
              "2                  741.06               729.02              730.98   \n",
              "3                  741.36               739.90              760.80   \n",
              "4                  756.46               737.88              747.14   \n",
              "...                   ...                  ...                 ...   \n",
              "2198               584.34               450.00              489.28   \n",
              "2199               450.00               450.00              450.00   \n",
              "2200               497.78               506.78              508.48   \n",
              "2201               456.66               450.00              450.00   \n",
              "2202               533.34               450.00              450.00   \n",
              "\n",
              "      nota_parcial_cotas  \n",
              "0                 718.64  \n",
              "1                 711.26  \n",
              "2                 722.82  \n",
              "3                 715.10  \n",
              "4                 717.60  \n",
              "...                  ...  \n",
              "2198              450.00  \n",
              "2199              450.00  \n",
              "2200              451.78  \n",
              "2201              450.00  \n",
              "2202              450.00  \n",
              "\n",
              "[2203 rows x 17 columns]"
            ],
            "text/html": [
              "\n",
              "  <div id=\"df-3d9e8bc8-c46a-4939-b0a1-2df0242b85ad\">\n",
              "    <div class=\"colab-df-container\">\n",
              "      <div>\n",
              "<style scoped>\n",
              "    .dataframe tbody tr th:only-of-type {\n",
              "        vertical-align: middle;\n",
              "    }\n",
              "\n",
              "    .dataframe tbody tr th {\n",
              "        vertical-align: top;\n",
              "    }\n",
              "\n",
              "    .dataframe thead th {\n",
              "        text-align: right;\n",
              "    }\n",
              "</style>\n",
              "<table border=\"1\" class=\"dataframe\">\n",
              "  <thead>\n",
              "    <tr style=\"text-align: right;\">\n",
              "      <th></th>\n",
              "      <th>grau</th>\n",
              "      <th>turno</th>\n",
              "      <th>mensalidade</th>\n",
              "      <th>bolsa_integral_cotas</th>\n",
              "      <th>bolsa_integral_ampla</th>\n",
              "      <th>bolsa_parcial_cotas</th>\n",
              "      <th>bolsa_parcial_ampla</th>\n",
              "      <th>curso_id</th>\n",
              "      <th>curso_busca</th>\n",
              "      <th>cidade_busca</th>\n",
              "      <th>uf_busca</th>\n",
              "      <th>universidade_nome</th>\n",
              "      <th>nome</th>\n",
              "      <th>nota_integral_ampla</th>\n",
              "      <th>nota_integral_cotas</th>\n",
              "      <th>nota_parcial_ampla</th>\n",
              "      <th>nota_parcial_cotas</th>\n",
              "    </tr>\n",
              "  </thead>\n",
              "  <tbody>\n",
              "    <tr>\n",
              "      <th>0</th>\n",
              "      <td>Bacharelado</td>\n",
              "      <td>Integral</td>\n",
              "      <td>9715.61</td>\n",
              "      <td>2.0</td>\n",
              "      <td>5.0</td>\n",
              "      <td>6.0</td>\n",
              "      <td>10.0</td>\n",
              "      <td>1002328574024</td>\n",
              "      <td>Medicina</td>\n",
              "      <td>Sao Paulo</td>\n",
              "      <td>SP</td>\n",
              "      <td>Universidade Cidade de São Paulo - UNICID</td>\n",
              "      <td>Medicina</td>\n",
              "      <td>739.62</td>\n",
              "      <td>738.08</td>\n",
              "      <td>738.96</td>\n",
              "      <td>718.64</td>\n",
              "    </tr>\n",
              "    <tr>\n",
              "      <th>1</th>\n",
              "      <td>Bacharelado</td>\n",
              "      <td>Integral</td>\n",
              "      <td>9674.34</td>\n",
              "      <td>4.0</td>\n",
              "      <td>1.0</td>\n",
              "      <td>5.0</td>\n",
              "      <td>2.0</td>\n",
              "      <td>65899611932754</td>\n",
              "      <td>Medicina</td>\n",
              "      <td>Rio Branco</td>\n",
              "      <td>AC</td>\n",
              "      <td>Faculdade Barão do Rio Branco - FAB</td>\n",
              "      <td>Medicina</td>\n",
              "      <td>758.32</td>\n",
              "      <td>723.94</td>\n",
              "      <td>734.92</td>\n",
              "      <td>711.26</td>\n",
              "    </tr>\n",
              "    <tr>\n",
              "      <th>2</th>\n",
              "      <td>Bacharelado</td>\n",
              "      <td>Integral</td>\n",
              "      <td>9023.07</td>\n",
              "      <td>4.0</td>\n",
              "      <td>4.0</td>\n",
              "      <td>5.0</td>\n",
              "      <td>5.0</td>\n",
              "      <td>65921511844324</td>\n",
              "      <td>Medicina</td>\n",
              "      <td>Itaperuna</td>\n",
              "      <td>RJ</td>\n",
              "      <td>Faculdade Redentor - FACREDENTOR</td>\n",
              "      <td>Medicina</td>\n",
              "      <td>741.06</td>\n",
              "      <td>729.02</td>\n",
              "      <td>730.98</td>\n",
              "      <td>722.82</td>\n",
              "    </tr>\n",
              "    <tr>\n",
              "      <th>3</th>\n",
              "      <td>Bacharelado</td>\n",
              "      <td>Integral</td>\n",
              "      <td>8508.54</td>\n",
              "      <td>2.0</td>\n",
              "      <td>1.0</td>\n",
              "      <td>7.0</td>\n",
              "      <td>2.0</td>\n",
              "      <td>104123711716094</td>\n",
              "      <td>Medicina</td>\n",
              "      <td>Belem</td>\n",
              "      <td>PA</td>\n",
              "      <td>Faculdade Metropolitana da Amazônia - FAMAZ</td>\n",
              "      <td>Medicina</td>\n",
              "      <td>741.36</td>\n",
              "      <td>739.90</td>\n",
              "      <td>760.80</td>\n",
              "      <td>715.10</td>\n",
              "    </tr>\n",
              "    <tr>\n",
              "      <th>4</th>\n",
              "      <td>Bacharelado</td>\n",
              "      <td>Integral</td>\n",
              "      <td>8281.38</td>\n",
              "      <td>3.0</td>\n",
              "      <td>1.0</td>\n",
              "      <td>6.0</td>\n",
              "      <td>2.0</td>\n",
              "      <td>105887911921884</td>\n",
              "      <td>Medicina</td>\n",
              "      <td>Imperatriz</td>\n",
              "      <td>MA</td>\n",
              "      <td>Universidade do Ceuma - Uniceuma - UNICEUMA</td>\n",
              "      <td>Medicina</td>\n",
              "      <td>756.46</td>\n",
              "      <td>737.88</td>\n",
              "      <td>747.14</td>\n",
              "      <td>717.60</td>\n",
              "    </tr>\n",
              "    <tr>\n",
              "      <th>...</th>\n",
              "      <td>...</td>\n",
              "      <td>...</td>\n",
              "      <td>...</td>\n",
              "      <td>...</td>\n",
              "      <td>...</td>\n",
              "      <td>...</td>\n",
              "      <td>...</td>\n",
              "      <td>...</td>\n",
              "      <td>...</td>\n",
              "      <td>...</td>\n",
              "      <td>...</td>\n",
              "      <td>...</td>\n",
              "      <td>...</td>\n",
              "      <td>...</td>\n",
              "      <td>...</td>\n",
              "      <td>...</td>\n",
              "      <td>...</td>\n",
              "    </tr>\n",
              "    <tr>\n",
              "      <th>2198</th>\n",
              "      <td>Bacharelado</td>\n",
              "      <td>Curso a Distância</td>\n",
              "      <td>189.00</td>\n",
              "      <td>1.0</td>\n",
              "      <td>2.0</td>\n",
              "      <td>1.0</td>\n",
              "      <td>3.0</td>\n",
              "      <td>65991211887475</td>\n",
              "      <td>Teologia</td>\n",
              "      <td>Sao Paulo</td>\n",
              "      <td>SP</td>\n",
              "      <td>Faculdade Messianica</td>\n",
              "      <td>Teologia</td>\n",
              "      <td>584.34</td>\n",
              "      <td>450.00</td>\n",
              "      <td>489.28</td>\n",
              "      <td>450.00</td>\n",
              "    </tr>\n",
              "    <tr>\n",
              "      <th>2199</th>\n",
              "      <td>Bacharelado</td>\n",
              "      <td>Curso a Distância</td>\n",
              "      <td>189.00</td>\n",
              "      <td>1.0</td>\n",
              "      <td>1.0</td>\n",
              "      <td>1.0</td>\n",
              "      <td>3.0</td>\n",
              "      <td>104980411887475</td>\n",
              "      <td>Teologia</td>\n",
              "      <td>Sao Paulo</td>\n",
              "      <td>SP</td>\n",
              "      <td>Faculdade Messianica</td>\n",
              "      <td>Teologia</td>\n",
              "      <td>450.00</td>\n",
              "      <td>450.00</td>\n",
              "      <td>450.00</td>\n",
              "      <td>450.00</td>\n",
              "    </tr>\n",
              "    <tr>\n",
              "      <th>2200</th>\n",
              "      <td>Licenciatura</td>\n",
              "      <td>Curso a Distância</td>\n",
              "      <td>189.00</td>\n",
              "      <td>1.0</td>\n",
              "      <td>1.0</td>\n",
              "      <td>1.0</td>\n",
              "      <td>3.0</td>\n",
              "      <td>65991213655645</td>\n",
              "      <td>Pedagogia</td>\n",
              "      <td>Sao Paulo</td>\n",
              "      <td>SP</td>\n",
              "      <td>Faculdade Messianica</td>\n",
              "      <td>Pedagogia</td>\n",
              "      <td>497.78</td>\n",
              "      <td>506.78</td>\n",
              "      <td>508.48</td>\n",
              "      <td>451.78</td>\n",
              "    </tr>\n",
              "    <tr>\n",
              "      <th>2201</th>\n",
              "      <td>Tecnológico</td>\n",
              "      <td>Noturno</td>\n",
              "      <td>188.00</td>\n",
              "      <td>1.0</td>\n",
              "      <td>2.0</td>\n",
              "      <td>1.0</td>\n",
              "      <td>9.0</td>\n",
              "      <td>65868713317703</td>\n",
              "      <td>Gestão da Qualidade</td>\n",
              "      <td>Sao VIcente</td>\n",
              "      <td>SP</td>\n",
              "      <td>Faculdade de São VIcente - FSV</td>\n",
              "      <td>Gestão da Qualidade</td>\n",
              "      <td>456.66</td>\n",
              "      <td>450.00</td>\n",
              "      <td>450.00</td>\n",
              "      <td>450.00</td>\n",
              "    </tr>\n",
              "    <tr>\n",
              "      <th>2202</th>\n",
              "      <td>Tecnológico</td>\n",
              "      <td>Curso a Distância</td>\n",
              "      <td>144.00</td>\n",
              "      <td>1.0</td>\n",
              "      <td>2.0</td>\n",
              "      <td>2.0</td>\n",
              "      <td>5.0</td>\n",
              "      <td>65868712869275</td>\n",
              "      <td>Marketing</td>\n",
              "      <td>Sao VIcente</td>\n",
              "      <td>SP</td>\n",
              "      <td>Faculdade de São VIcente - FSV</td>\n",
              "      <td>Marketing</td>\n",
              "      <td>533.34</td>\n",
              "      <td>450.00</td>\n",
              "      <td>450.00</td>\n",
              "      <td>450.00</td>\n",
              "    </tr>\n",
              "  </tbody>\n",
              "</table>\n",
              "<p>2203 rows × 17 columns</p>\n",
              "</div>\n",
              "      <button class=\"colab-df-convert\" onclick=\"convertToInteractive('df-3d9e8bc8-c46a-4939-b0a1-2df0242b85ad')\"\n",
              "              title=\"Convert this dataframe to an interactive table.\"\n",
              "              style=\"display:none;\">\n",
              "        \n",
              "  <svg xmlns=\"http://www.w3.org/2000/svg\" height=\"24px\"viewBox=\"0 0 24 24\"\n",
              "       width=\"24px\">\n",
              "    <path d=\"M0 0h24v24H0V0z\" fill=\"none\"/>\n",
              "    <path d=\"M18.56 5.44l.94 2.06.94-2.06 2.06-.94-2.06-.94-.94-2.06-.94 2.06-2.06.94zm-11 1L8.5 8.5l.94-2.06 2.06-.94-2.06-.94L8.5 2.5l-.94 2.06-2.06.94zm10 10l.94 2.06.94-2.06 2.06-.94-2.06-.94-.94-2.06-.94 2.06-2.06.94z\"/><path d=\"M17.41 7.96l-1.37-1.37c-.4-.4-.92-.59-1.43-.59-.52 0-1.04.2-1.43.59L10.3 9.45l-7.72 7.72c-.78.78-.78 2.05 0 2.83L4 21.41c.39.39.9.59 1.41.59.51 0 1.02-.2 1.41-.59l7.78-7.78 2.81-2.81c.8-.78.8-2.07 0-2.86zM5.41 20L4 18.59l7.72-7.72 1.47 1.35L5.41 20z\"/>\n",
              "  </svg>\n",
              "      </button>\n",
              "      \n",
              "  <style>\n",
              "    .colab-df-container {\n",
              "      display:flex;\n",
              "      flex-wrap:wrap;\n",
              "      gap: 12px;\n",
              "    }\n",
              "\n",
              "    .colab-df-convert {\n",
              "      background-color: #E8F0FE;\n",
              "      border: none;\n",
              "      border-radius: 50%;\n",
              "      cursor: pointer;\n",
              "      display: none;\n",
              "      fill: #1967D2;\n",
              "      height: 32px;\n",
              "      padding: 0 0 0 0;\n",
              "      width: 32px;\n",
              "    }\n",
              "\n",
              "    .colab-df-convert:hover {\n",
              "      background-color: #E2EBFA;\n",
              "      box-shadow: 0px 1px 2px rgba(60, 64, 67, 0.3), 0px 1px 3px 1px rgba(60, 64, 67, 0.15);\n",
              "      fill: #174EA6;\n",
              "    }\n",
              "\n",
              "    [theme=dark] .colab-df-convert {\n",
              "      background-color: #3B4455;\n",
              "      fill: #D2E3FC;\n",
              "    }\n",
              "\n",
              "    [theme=dark] .colab-df-convert:hover {\n",
              "      background-color: #434B5C;\n",
              "      box-shadow: 0px 1px 3px 1px rgba(0, 0, 0, 0.15);\n",
              "      filter: drop-shadow(0px 1px 2px rgba(0, 0, 0, 0.3));\n",
              "      fill: #FFFFFF;\n",
              "    }\n",
              "  </style>\n",
              "\n",
              "      <script>\n",
              "        const buttonEl =\n",
              "          document.querySelector('#df-3d9e8bc8-c46a-4939-b0a1-2df0242b85ad button.colab-df-convert');\n",
              "        buttonEl.style.display =\n",
              "          google.colab.kernel.accessAllowed ? 'block' : 'none';\n",
              "\n",
              "        async function convertToInteractive(key) {\n",
              "          const element = document.querySelector('#df-3d9e8bc8-c46a-4939-b0a1-2df0242b85ad');\n",
              "          const dataTable =\n",
              "            await google.colab.kernel.invokeFunction('convertToInteractive',\n",
              "                                                     [key], {});\n",
              "          if (!dataTable) return;\n",
              "\n",
              "          const docLinkHtml = 'Like what you see? Visit the ' +\n",
              "            '<a target=\"_blank\" href=https://colab.research.google.com/notebooks/data_table.ipynb>data table notebook</a>'\n",
              "            + ' to learn more about interactive tables.';\n",
              "          element.innerHTML = '';\n",
              "          dataTable['output_type'] = 'display_data';\n",
              "          await google.colab.output.renderOutput(dataTable, element);\n",
              "          const docLink = document.createElement('div');\n",
              "          docLink.innerHTML = docLinkHtml;\n",
              "          element.appendChild(docLink);\n",
              "        }\n",
              "      </script>\n",
              "    </div>\n",
              "  </div>\n",
              "  "
            ]
          },
          "metadata": {},
          "execution_count": 95
        }
      ]
    },
    {
      "cell_type": "code",
      "source": [
        "df.info()"
      ],
      "metadata": {
        "colab": {
          "base_uri": "https://localhost:8080/"
        },
        "id": "bT1TPF18nQOS",
        "outputId": "568f4092-8e17-45b9-fd24-528f55ceecba"
      },
      "execution_count": null,
      "outputs": [
        {
          "output_type": "stream",
          "name": "stdout",
          "text": [
            "<class 'pandas.core.frame.DataFrame'>\n",
            "RangeIndex: 2203 entries, 0 to 2202\n",
            "Data columns (total 17 columns):\n",
            " #   Column                Non-Null Count  Dtype  \n",
            "---  ------                --------------  -----  \n",
            " 0   grau                  2203 non-null   object \n",
            " 1   turno                 2203 non-null   object \n",
            " 2   mensalidade           2203 non-null   float64\n",
            " 3   bolsa_integral_cotas  2203 non-null   float64\n",
            " 4   bolsa_integral_ampla  2203 non-null   float64\n",
            " 5   bolsa_parcial_cotas   2203 non-null   float64\n",
            " 6   bolsa_parcial_ampla   2203 non-null   float64\n",
            " 7   curso_id              2203 non-null   int64  \n",
            " 8   curso_busca           2203 non-null   object \n",
            " 9   cidade_busca          2203 non-null   object \n",
            " 10  uf_busca              2203 non-null   object \n",
            " 11  universidade_nome     2203 non-null   object \n",
            " 12  nome                  2203 non-null   object \n",
            " 13  nota_integral_ampla   2203 non-null   float64\n",
            " 14  nota_integral_cotas   2203 non-null   float64\n",
            " 15  nota_parcial_ampla    2203 non-null   float64\n",
            " 16  nota_parcial_cotas    2203 non-null   float64\n",
            "dtypes: float64(9), int64(1), object(7)\n",
            "memory usage: 292.7+ KB\n"
          ]
        }
      ]
    },
    {
      "cell_type": "code",
      "source": [
        "universidadex = df.loc[df.universidade_nome == 'Universidade Cidade de São Paulo - UNICID']\n",
        "universidadex.shape"
      ],
      "metadata": {
        "colab": {
          "base_uri": "https://localhost:8080/"
        },
        "id": "f2LMLCSBnbu7",
        "outputId": "c041dea0-1caf-4409-cd09-d3d9ae5f138b"
      },
      "execution_count": null,
      "outputs": [
        {
          "output_type": "execute_result",
          "data": {
            "text/plain": [
              "(97, 17)"
            ]
          },
          "metadata": {},
          "execution_count": 97
        }
      ]
    },
    {
      "cell_type": "code",
      "source": [
        "universidadex.dtypes"
      ],
      "metadata": {
        "colab": {
          "base_uri": "https://localhost:8080/"
        },
        "id": "4D9-EmZroCfV",
        "outputId": "91538c00-ccc0-48b4-c2c2-bf1c6f12eb53"
      },
      "execution_count": null,
      "outputs": [
        {
          "output_type": "execute_result",
          "data": {
            "text/plain": [
              "grau                     object\n",
              "turno                    object\n",
              "mensalidade             float64\n",
              "bolsa_integral_cotas    float64\n",
              "bolsa_integral_ampla    float64\n",
              "bolsa_parcial_cotas     float64\n",
              "bolsa_parcial_ampla     float64\n",
              "curso_id                  int64\n",
              "curso_busca              object\n",
              "cidade_busca             object\n",
              "uf_busca                 object\n",
              "universidade_nome        object\n",
              "nome                     object\n",
              "nota_integral_ampla     float64\n",
              "nota_integral_cotas     float64\n",
              "nota_parcial_ampla      float64\n",
              "nota_parcial_cotas      float64\n",
              "dtype: object"
            ]
          },
          "metadata": {},
          "execution_count": 98
        }
      ]
    },
    {
      "cell_type": "code",
      "source": [
        "universidadex.isnull().sum()"
      ],
      "metadata": {
        "colab": {
          "base_uri": "https://localhost:8080/"
        },
        "id": "UmyAp9qGoG8E",
        "outputId": "8067bfe0-d566-48d9-dc76-28cff7b98b52"
      },
      "execution_count": null,
      "outputs": [
        {
          "output_type": "execute_result",
          "data": {
            "text/plain": [
              "grau                    0\n",
              "turno                   0\n",
              "mensalidade             0\n",
              "bolsa_integral_cotas    0\n",
              "bolsa_integral_ampla    0\n",
              "bolsa_parcial_cotas     0\n",
              "bolsa_parcial_ampla     0\n",
              "curso_id                0\n",
              "curso_busca             0\n",
              "cidade_busca            0\n",
              "uf_busca                0\n",
              "universidade_nome       0\n",
              "nome                    0\n",
              "nota_integral_ampla     0\n",
              "nota_integral_cotas     0\n",
              "nota_parcial_ampla      0\n",
              "nota_parcial_cotas      0\n",
              "dtype: int64"
            ]
          },
          "metadata": {},
          "execution_count": 99
        }
      ]
    },
    {
      "cell_type": "code",
      "source": [
        "import plotly.express as px\n",
        "grafico = px.box(universidadex, y=\"nota_integral_cotas\")\n",
        "grafico.show()"
      ],
      "metadata": {
        "colab": {
          "base_uri": "https://localhost:8080/",
          "height": 542
        },
        "id": "1yCoS35IoRC3",
        "outputId": "8a331915-c914-4eea-cf41-89ccad916a71"
      },
      "execution_count": null,
      "outputs": [
        {
          "output_type": "display_data",
          "data": {
            "text/html": [
              "<html>\n",
              "<head><meta charset=\"utf-8\" /></head>\n",
              "<body>\n",
              "    <div>            <script src=\"https://cdnjs.cloudflare.com/ajax/libs/mathjax/2.7.5/MathJax.js?config=TeX-AMS-MML_SVG\"></script><script type=\"text/javascript\">if (window.MathJax) {MathJax.Hub.Config({SVG: {font: \"STIX-Web\"}});}</script>                <script type=\"text/javascript\">window.PlotlyConfig = {MathJaxConfig: 'local'};</script>\n",
              "        <script src=\"https://cdn.plot.ly/plotly-2.8.3.min.js\"></script>                <div id=\"657e176d-ca48-4b39-9642-719ffdb191d6\" class=\"plotly-graph-div\" style=\"height:525px; width:100%;\"></div>            <script type=\"text/javascript\">                                    window.PLOTLYENV=window.PLOTLYENV || {};                                    if (document.getElementById(\"657e176d-ca48-4b39-9642-719ffdb191d6\")) {                    Plotly.newPlot(                        \"657e176d-ca48-4b39-9642-719ffdb191d6\",                        [{\"alignmentgroup\":\"True\",\"hovertemplate\":\"nota_integral_cotas=%{y}<extra></extra>\",\"legendgroup\":\"\",\"marker\":{\"color\":\"#636efa\"},\"name\":\"\",\"notched\":false,\"offsetgroup\":\"\",\"orientation\":\"v\",\"showlegend\":false,\"x0\":\" \",\"xaxis\":\"x\",\"y\":[738.08,652.9,653.94,609.02,575.58,617.6,555.02,582.82,618.1,581.32,546.2,587.4,588.86,638.8,577.82,635.0,568.56,591.36,567.38,584.26,591.56,574.2,599.42,599.68,573.34,550.42,552.48,595.34,589.94,580.52,567.78,543.12,573.18,515.58,501.68,568.54,547.78,555.86,523.8,493.16,551.4,556.3,522.42,533.38,505.04,512.86,536.78,553.02,605.6,620.98,567.76,622.3,597.24,595.0,545.88,555.04,593.84,450.0,536.92,535.06,565.3,540.42,489.46,576.32,575.02,509.22,545.54,467.28,501.3,524.62,501.82,450.0,484.38,528.56,545.76,515.08,514.12,450.0,486.16,501.62,467.4,450.0,504.54,450.0,489.68,473.68,450.0,450.0,565.94,452.04,450.0,450.0,450.0,565.44,450.44,492.72,450.0],\"y0\":\" \",\"yaxis\":\"y\",\"type\":\"box\"}],                        {\"template\":{\"data\":{\"bar\":[{\"error_x\":{\"color\":\"#2a3f5f\"},\"error_y\":{\"color\":\"#2a3f5f\"},\"marker\":{\"line\":{\"color\":\"#E5ECF6\",\"width\":0.5},\"pattern\":{\"fillmode\":\"overlay\",\"size\":10,\"solidity\":0.2}},\"type\":\"bar\"}],\"barpolar\":[{\"marker\":{\"line\":{\"color\":\"#E5ECF6\",\"width\":0.5},\"pattern\":{\"fillmode\":\"overlay\",\"size\":10,\"solidity\":0.2}},\"type\":\"barpolar\"}],\"carpet\":[{\"aaxis\":{\"endlinecolor\":\"#2a3f5f\",\"gridcolor\":\"white\",\"linecolor\":\"white\",\"minorgridcolor\":\"white\",\"startlinecolor\":\"#2a3f5f\"},\"baxis\":{\"endlinecolor\":\"#2a3f5f\",\"gridcolor\":\"white\",\"linecolor\":\"white\",\"minorgridcolor\":\"white\",\"startlinecolor\":\"#2a3f5f\"},\"type\":\"carpet\"}],\"choropleth\":[{\"colorbar\":{\"outlinewidth\":0,\"ticks\":\"\"},\"type\":\"choropleth\"}],\"contour\":[{\"colorbar\":{\"outlinewidth\":0,\"ticks\":\"\"},\"colorscale\":[[0.0,\"#0d0887\"],[0.1111111111111111,\"#46039f\"],[0.2222222222222222,\"#7201a8\"],[0.3333333333333333,\"#9c179e\"],[0.4444444444444444,\"#bd3786\"],[0.5555555555555556,\"#d8576b\"],[0.6666666666666666,\"#ed7953\"],[0.7777777777777778,\"#fb9f3a\"],[0.8888888888888888,\"#fdca26\"],[1.0,\"#f0f921\"]],\"type\":\"contour\"}],\"contourcarpet\":[{\"colorbar\":{\"outlinewidth\":0,\"ticks\":\"\"},\"type\":\"contourcarpet\"}],\"heatmap\":[{\"colorbar\":{\"outlinewidth\":0,\"ticks\":\"\"},\"colorscale\":[[0.0,\"#0d0887\"],[0.1111111111111111,\"#46039f\"],[0.2222222222222222,\"#7201a8\"],[0.3333333333333333,\"#9c179e\"],[0.4444444444444444,\"#bd3786\"],[0.5555555555555556,\"#d8576b\"],[0.6666666666666666,\"#ed7953\"],[0.7777777777777778,\"#fb9f3a\"],[0.8888888888888888,\"#fdca26\"],[1.0,\"#f0f921\"]],\"type\":\"heatmap\"}],\"heatmapgl\":[{\"colorbar\":{\"outlinewidth\":0,\"ticks\":\"\"},\"colorscale\":[[0.0,\"#0d0887\"],[0.1111111111111111,\"#46039f\"],[0.2222222222222222,\"#7201a8\"],[0.3333333333333333,\"#9c179e\"],[0.4444444444444444,\"#bd3786\"],[0.5555555555555556,\"#d8576b\"],[0.6666666666666666,\"#ed7953\"],[0.7777777777777778,\"#fb9f3a\"],[0.8888888888888888,\"#fdca26\"],[1.0,\"#f0f921\"]],\"type\":\"heatmapgl\"}],\"histogram\":[{\"marker\":{\"pattern\":{\"fillmode\":\"overlay\",\"size\":10,\"solidity\":0.2}},\"type\":\"histogram\"}],\"histogram2d\":[{\"colorbar\":{\"outlinewidth\":0,\"ticks\":\"\"},\"colorscale\":[[0.0,\"#0d0887\"],[0.1111111111111111,\"#46039f\"],[0.2222222222222222,\"#7201a8\"],[0.3333333333333333,\"#9c179e\"],[0.4444444444444444,\"#bd3786\"],[0.5555555555555556,\"#d8576b\"],[0.6666666666666666,\"#ed7953\"],[0.7777777777777778,\"#fb9f3a\"],[0.8888888888888888,\"#fdca26\"],[1.0,\"#f0f921\"]],\"type\":\"histogram2d\"}],\"histogram2dcontour\":[{\"colorbar\":{\"outlinewidth\":0,\"ticks\":\"\"},\"colorscale\":[[0.0,\"#0d0887\"],[0.1111111111111111,\"#46039f\"],[0.2222222222222222,\"#7201a8\"],[0.3333333333333333,\"#9c179e\"],[0.4444444444444444,\"#bd3786\"],[0.5555555555555556,\"#d8576b\"],[0.6666666666666666,\"#ed7953\"],[0.7777777777777778,\"#fb9f3a\"],[0.8888888888888888,\"#fdca26\"],[1.0,\"#f0f921\"]],\"type\":\"histogram2dcontour\"}],\"mesh3d\":[{\"colorbar\":{\"outlinewidth\":0,\"ticks\":\"\"},\"type\":\"mesh3d\"}],\"parcoords\":[{\"line\":{\"colorbar\":{\"outlinewidth\":0,\"ticks\":\"\"}},\"type\":\"parcoords\"}],\"pie\":[{\"automargin\":true,\"type\":\"pie\"}],\"scatter\":[{\"marker\":{\"colorbar\":{\"outlinewidth\":0,\"ticks\":\"\"}},\"type\":\"scatter\"}],\"scatter3d\":[{\"line\":{\"colorbar\":{\"outlinewidth\":0,\"ticks\":\"\"}},\"marker\":{\"colorbar\":{\"outlinewidth\":0,\"ticks\":\"\"}},\"type\":\"scatter3d\"}],\"scattercarpet\":[{\"marker\":{\"colorbar\":{\"outlinewidth\":0,\"ticks\":\"\"}},\"type\":\"scattercarpet\"}],\"scattergeo\":[{\"marker\":{\"colorbar\":{\"outlinewidth\":0,\"ticks\":\"\"}},\"type\":\"scattergeo\"}],\"scattergl\":[{\"marker\":{\"colorbar\":{\"outlinewidth\":0,\"ticks\":\"\"}},\"type\":\"scattergl\"}],\"scattermapbox\":[{\"marker\":{\"colorbar\":{\"outlinewidth\":0,\"ticks\":\"\"}},\"type\":\"scattermapbox\"}],\"scatterpolar\":[{\"marker\":{\"colorbar\":{\"outlinewidth\":0,\"ticks\":\"\"}},\"type\":\"scatterpolar\"}],\"scatterpolargl\":[{\"marker\":{\"colorbar\":{\"outlinewidth\":0,\"ticks\":\"\"}},\"type\":\"scatterpolargl\"}],\"scatterternary\":[{\"marker\":{\"colorbar\":{\"outlinewidth\":0,\"ticks\":\"\"}},\"type\":\"scatterternary\"}],\"surface\":[{\"colorbar\":{\"outlinewidth\":0,\"ticks\":\"\"},\"colorscale\":[[0.0,\"#0d0887\"],[0.1111111111111111,\"#46039f\"],[0.2222222222222222,\"#7201a8\"],[0.3333333333333333,\"#9c179e\"],[0.4444444444444444,\"#bd3786\"],[0.5555555555555556,\"#d8576b\"],[0.6666666666666666,\"#ed7953\"],[0.7777777777777778,\"#fb9f3a\"],[0.8888888888888888,\"#fdca26\"],[1.0,\"#f0f921\"]],\"type\":\"surface\"}],\"table\":[{\"cells\":{\"fill\":{\"color\":\"#EBF0F8\"},\"line\":{\"color\":\"white\"}},\"header\":{\"fill\":{\"color\":\"#C8D4E3\"},\"line\":{\"color\":\"white\"}},\"type\":\"table\"}]},\"layout\":{\"annotationdefaults\":{\"arrowcolor\":\"#2a3f5f\",\"arrowhead\":0,\"arrowwidth\":1},\"autotypenumbers\":\"strict\",\"coloraxis\":{\"colorbar\":{\"outlinewidth\":0,\"ticks\":\"\"}},\"colorscale\":{\"diverging\":[[0,\"#8e0152\"],[0.1,\"#c51b7d\"],[0.2,\"#de77ae\"],[0.3,\"#f1b6da\"],[0.4,\"#fde0ef\"],[0.5,\"#f7f7f7\"],[0.6,\"#e6f5d0\"],[0.7,\"#b8e186\"],[0.8,\"#7fbc41\"],[0.9,\"#4d9221\"],[1,\"#276419\"]],\"sequential\":[[0.0,\"#0d0887\"],[0.1111111111111111,\"#46039f\"],[0.2222222222222222,\"#7201a8\"],[0.3333333333333333,\"#9c179e\"],[0.4444444444444444,\"#bd3786\"],[0.5555555555555556,\"#d8576b\"],[0.6666666666666666,\"#ed7953\"],[0.7777777777777778,\"#fb9f3a\"],[0.8888888888888888,\"#fdca26\"],[1.0,\"#f0f921\"]],\"sequentialminus\":[[0.0,\"#0d0887\"],[0.1111111111111111,\"#46039f\"],[0.2222222222222222,\"#7201a8\"],[0.3333333333333333,\"#9c179e\"],[0.4444444444444444,\"#bd3786\"],[0.5555555555555556,\"#d8576b\"],[0.6666666666666666,\"#ed7953\"],[0.7777777777777778,\"#fb9f3a\"],[0.8888888888888888,\"#fdca26\"],[1.0,\"#f0f921\"]]},\"colorway\":[\"#636efa\",\"#EF553B\",\"#00cc96\",\"#ab63fa\",\"#FFA15A\",\"#19d3f3\",\"#FF6692\",\"#B6E880\",\"#FF97FF\",\"#FECB52\"],\"font\":{\"color\":\"#2a3f5f\"},\"geo\":{\"bgcolor\":\"white\",\"lakecolor\":\"white\",\"landcolor\":\"#E5ECF6\",\"showlakes\":true,\"showland\":true,\"subunitcolor\":\"white\"},\"hoverlabel\":{\"align\":\"left\"},\"hovermode\":\"closest\",\"mapbox\":{\"style\":\"light\"},\"paper_bgcolor\":\"white\",\"plot_bgcolor\":\"#E5ECF6\",\"polar\":{\"angularaxis\":{\"gridcolor\":\"white\",\"linecolor\":\"white\",\"ticks\":\"\"},\"bgcolor\":\"#E5ECF6\",\"radialaxis\":{\"gridcolor\":\"white\",\"linecolor\":\"white\",\"ticks\":\"\"}},\"scene\":{\"xaxis\":{\"backgroundcolor\":\"#E5ECF6\",\"gridcolor\":\"white\",\"gridwidth\":2,\"linecolor\":\"white\",\"showbackground\":true,\"ticks\":\"\",\"zerolinecolor\":\"white\"},\"yaxis\":{\"backgroundcolor\":\"#E5ECF6\",\"gridcolor\":\"white\",\"gridwidth\":2,\"linecolor\":\"white\",\"showbackground\":true,\"ticks\":\"\",\"zerolinecolor\":\"white\"},\"zaxis\":{\"backgroundcolor\":\"#E5ECF6\",\"gridcolor\":\"white\",\"gridwidth\":2,\"linecolor\":\"white\",\"showbackground\":true,\"ticks\":\"\",\"zerolinecolor\":\"white\"}},\"shapedefaults\":{\"line\":{\"color\":\"#2a3f5f\"}},\"ternary\":{\"aaxis\":{\"gridcolor\":\"white\",\"linecolor\":\"white\",\"ticks\":\"\"},\"baxis\":{\"gridcolor\":\"white\",\"linecolor\":\"white\",\"ticks\":\"\"},\"bgcolor\":\"#E5ECF6\",\"caxis\":{\"gridcolor\":\"white\",\"linecolor\":\"white\",\"ticks\":\"\"}},\"title\":{\"x\":0.05},\"xaxis\":{\"automargin\":true,\"gridcolor\":\"white\",\"linecolor\":\"white\",\"ticks\":\"\",\"title\":{\"standoff\":15},\"zerolinecolor\":\"white\",\"zerolinewidth\":2},\"yaxis\":{\"automargin\":true,\"gridcolor\":\"white\",\"linecolor\":\"white\",\"ticks\":\"\",\"title\":{\"standoff\":15},\"zerolinecolor\":\"white\",\"zerolinewidth\":2}}},\"xaxis\":{\"anchor\":\"y\",\"domain\":[0.0,1.0]},\"yaxis\":{\"anchor\":\"x\",\"domain\":[0.0,1.0],\"title\":{\"text\":\"nota_integral_cotas\"}},\"legend\":{\"tracegroupgap\":0},\"margin\":{\"t\":60},\"boxmode\":\"group\"},                        {\"responsive\": true}                    ).then(function(){\n",
              "                            \n",
              "var gd = document.getElementById('657e176d-ca48-4b39-9642-719ffdb191d6');\n",
              "var x = new MutationObserver(function (mutations, observer) {{\n",
              "        var display = window.getComputedStyle(gd).display;\n",
              "        if (!display || display === 'none') {{\n",
              "            console.log([gd, 'removed!']);\n",
              "            Plotly.purge(gd);\n",
              "            observer.disconnect();\n",
              "        }}\n",
              "}});\n",
              "\n",
              "// Listen for the removal of the full notebook cells\n",
              "var notebookContainer = gd.closest('#notebook-container');\n",
              "if (notebookContainer) {{\n",
              "    x.observe(notebookContainer, {childList: true});\n",
              "}}\n",
              "\n",
              "// Listen for the clearing of the current output cell\n",
              "var outputEl = gd.closest('.output');\n",
              "if (outputEl) {{\n",
              "    x.observe(outputEl, {childList: true});\n",
              "}}\n",
              "\n",
              "                        })                };                            </script>        </div>\n",
              "</body>\n",
              "</html>"
            ]
          },
          "metadata": {}
        }
      ]
    },
    {
      "cell_type": "code",
      "source": [
        "import seaborn as sns\n",
        "sns.histplot(universidadex, x='nota_integral_cotas', bins=10, color=\"orange\", kde=True, stat=\"probability\");"
      ],
      "metadata": {
        "colab": {
          "base_uri": "https://localhost:8080/",
          "height": 280
        },
        "id": "Lgmg3nhaocdQ",
        "outputId": "a32dc3fe-fab7-4318-f45a-5324db379026"
      },
      "execution_count": null,
      "outputs": [
        {
          "output_type": "display_data",
          "data": {
            "text/plain": [
              "<Figure size 432x288 with 1 Axes>"
            ],
            "image/png": "[encoded data removed]"
          },
          "metadata": {
            "needs_background": "light"
          }
        }
      ]
    },
    {
      "cell_type": "code",
      "source": [
        "import scipy.stats as stats\n",
        "import matplotlib.pyplot as plt"
      ],
      "metadata": {
        "id": "XKbCIuLropDs"
      },
      "execution_count": null,
      "outputs": []
    },
    {
      "cell_type": "code",
      "source": [
        "stats.probplot(universidadex['nota_integral_cotas'], dist=\"norm\", plot=plt)\n",
        "plt.title(\"Normal Q-Q plot\")\n",
        "plt.show()"
      ],
      "metadata": {
        "colab": {
          "base_uri": "https://localhost:8080/",
          "height": 295
        },
        "id": "ozS4k87Jos0S",
        "outputId": "2d9f71ec-81b4-4d08-cf68-5299992641d0"
      },
      "execution_count": null,
      "outputs": [
        {
          "output_type": "display_data",
          "data": {
            "text/plain": [
              "<Figure size 432x288 with 1 Axes>"
            ],
            "image/png": "[encoded data removed]"
          },
          "metadata": {
            "needs_background": "light"
          }
        }
      ]
    },
    {
      "cell_type": "code",
      "source": [
        "#teste shapiro-wilk\n",
        "stats.shapiro(universidadex.nota_integral_cotas)"
      ],
      "metadata": {
        "colab": {
          "base_uri": "https://localhost:8080/"
        },
        "id": "HeLze4hlps5y",
        "outputId": "d40eaffd-0946-4614-ef0c-e3cee3774b1f"
      },
      "execution_count": null,
      "outputs": [
        {
          "output_type": "execute_result",
          "data": {
            "text/plain": [
              "ShapiroResult(statistic=0.960903525352478, pvalue=0.005558077711611986)"
            ]
          },
          "metadata": {},
          "execution_count": 104
        }
      ]
    },
    {
      "cell_type": "code",
      "source": [
        "import statsmodels\n",
        "from statsmodels.stats.diagnostic import lilliefors"
      ],
      "metadata": {
        "id": "Ck_obbLvqLyE"
      },
      "execution_count": null,
      "outputs": []
    },
    {
      "cell_type": "code",
      "source": [
        "#teste lilliefors (Kolmogorov_Sminorv)\n",
        "statsmodels.stats.diagnostic.lilliefors(universidadex.nota_integral_cotas, dist = 'norm')"
      ],
      "metadata": {
        "colab": {
          "base_uri": "https://localhost:8080/"
        },
        "id": "n4FPSJiEqNjR",
        "outputId": "dc038253-7d40-420f-93ee-4f31ee82d387"
      },
      "execution_count": null,
      "outputs": [
        {
          "output_type": "execute_result",
          "data": {
            "text/plain": [
              "(0.07680676895489194, 0.19121427549644532)"
            ]
          },
          "metadata": {},
          "execution_count": 106
        }
      ]
    },
    {
      "cell_type": "code",
      "source": [
        "#média das notas (integral cotas) da universidade x, comparada a média do estado do PR\n",
        "\n",
        "from statsmodels.stats.weightstats import ztest"
      ],
      "metadata": {
        "id": "KuS55cRnqmPb"
      },
      "execution_count": null,
      "outputs": []
    },
    {
      "cell_type": "code",
      "source": [
        "df.nota_integral_cotas.describe()"
      ],
      "metadata": {
        "colab": {
          "base_uri": "https://localhost:8080/"
        },
        "id": "xML0u8qcq_1L",
        "outputId": "b0197276-354f-4621-dd98-65a71d2cc20c"
      },
      "execution_count": null,
      "outputs": [
        {
          "output_type": "execute_result",
          "data": {
            "text/plain": [
              "count    2203.000000\n",
              "mean      574.097921\n",
              "std        59.868058\n",
              "min       450.000000\n",
              "25%       542.290000\n",
              "50%       583.320000\n",
              "75%       614.340000\n",
              "max       792.240000\n",
              "Name: nota_integral_cotas, dtype: float64"
            ]
          },
          "metadata": {},
          "execution_count": 108
        }
      ]
    },
    {
      "cell_type": "code",
      "source": [
        "stat, p = ztest(universidadex['nota_integral_cotas'], value=574.097921, )\n",
        "print('Estatística de teste: {}'.format(stat.round(2)))\n",
        "print('p-valor: {}'.format(p))"
      ],
      "metadata": {
        "colab": {
          "base_uri": "https://localhost:8080/"
        },
        "id": "5rAKbySarZUI",
        "outputId": "f717722a-be2d-4af8-b4f7-dbb8c39667be"
      },
      "execution_count": null,
      "outputs": [
        {
          "output_type": "stream",
          "name": "stdout",
          "text": [
            "Estatística de teste: -5.25\n",
            "p-valor: 1.5078266978831178e-07\n"
          ]
        }
      ]
    },
    {
      "cell_type": "code",
      "source": [
        "universidadex.nota_integral_cotas.describe()"
      ],
      "metadata": {
        "colab": {
          "base_uri": "https://localhost:8080/"
        },
        "id": "rRhEwAzPr6z-",
        "outputId": "e70e408b-76d7-4574-f2ac-444817fb5bdd"
      },
      "execution_count": null,
      "outputs": [
        {
          "output_type": "execute_result",
          "data": {
            "text/plain": [
              "count     97.000000\n",
              "mean     543.279175\n",
              "std       57.797505\n",
              "min      450.000000\n",
              "25%      501.680000\n",
              "50%      550.420000\n",
              "75%      581.320000\n",
              "max      738.080000\n",
              "Name: nota_integral_cotas, dtype: float64"
            ]
          },
          "metadata": {},
          "execution_count": 110
        }
      ]
    },
    {
      "cell_type": "code",
      "source": [
        "#teste estatístico: z = -5,25\n",
        "\n",
        "#p_valor = 1.50e-07"
      ],
      "metadata": {
        "id": "7Onpsyv4s5i1"
      },
      "execution_count": null,
      "outputs": []
    },
    {
      "cell_type": "code",
      "source": [
        "#teste de normalidade\n",
        "\n",
        "df"
      ],
      "metadata": {
        "colab": {
          "base_uri": "https://localhost:8080/",
          "height": 713
        },
        "id": "I4d_0Ydptl6E",
        "outputId": "a102a88a-f954-46c7-8aa8-08256061e404"
      },
      "execution_count": null,
      "outputs": [
        {
          "output_type": "execute_result",
          "data": {
            "text/plain": [
              "              grau              turno  mensalidade  bolsa_integral_cotas  \\\n",
              "0      Bacharelado           Integral      9715.61                   2.0   \n",
              "1      Bacharelado           Integral      9674.34                   4.0   \n",
              "2      Bacharelado           Integral      9023.07                   4.0   \n",
              "3      Bacharelado           Integral      8508.54                   2.0   \n",
              "4      Bacharelado           Integral      8281.38                   3.0   \n",
              "...            ...                ...          ...                   ...   \n",
              "2198   Bacharelado  Curso a Distância       189.00                   1.0   \n",
              "2199   Bacharelado  Curso a Distância       189.00                   1.0   \n",
              "2200  Licenciatura  Curso a Distância       189.00                   1.0   \n",
              "2201   Tecnológico            Noturno       188.00                   1.0   \n",
              "2202   Tecnológico  Curso a Distância       144.00                   1.0   \n",
              "\n",
              "      bolsa_integral_ampla  bolsa_parcial_cotas  bolsa_parcial_ampla  \\\n",
              "0                      5.0                  6.0                 10.0   \n",
              "1                      1.0                  5.0                  2.0   \n",
              "2                      4.0                  5.0                  5.0   \n",
              "3                      1.0                  7.0                  2.0   \n",
              "4                      1.0                  6.0                  2.0   \n",
              "...                    ...                  ...                  ...   \n",
              "2198                   2.0                  1.0                  3.0   \n",
              "2199                   1.0                  1.0                  3.0   \n",
              "2200                   1.0                  1.0                  3.0   \n",
              "2201                   2.0                  1.0                  9.0   \n",
              "2202                   2.0                  2.0                  5.0   \n",
              "\n",
              "             curso_id          curso_busca cidade_busca uf_busca  \\\n",
              "0       1002328574024             Medicina    Sao Paulo       SP   \n",
              "1      65899611932754             Medicina   Rio Branco       AC   \n",
              "2      65921511844324             Medicina    Itaperuna       RJ   \n",
              "3     104123711716094             Medicina        Belem       PA   \n",
              "4     105887911921884             Medicina   Imperatriz       MA   \n",
              "...               ...                  ...          ...      ...   \n",
              "2198   65991211887475             Teologia    Sao Paulo       SP   \n",
              "2199  104980411887475             Teologia    Sao Paulo       SP   \n",
              "2200   65991213655645            Pedagogia    Sao Paulo       SP   \n",
              "2201   65868713317703  Gestão da Qualidade  Sao VIcente       SP   \n",
              "2202   65868712869275            Marketing  Sao VIcente       SP   \n",
              "\n",
              "                                universidade_nome                 nome  \\\n",
              "0       Universidade Cidade de São Paulo - UNICID             Medicina   \n",
              "1             Faculdade Barão do Rio Branco - FAB             Medicina   \n",
              "2                Faculdade Redentor - FACREDENTOR             Medicina   \n",
              "3     Faculdade Metropolitana da Amazônia - FAMAZ             Medicina   \n",
              "4     Universidade do Ceuma - Uniceuma - UNICEUMA             Medicina   \n",
              "...                                           ...                  ...   \n",
              "2198                         Faculdade Messianica             Teologia   \n",
              "2199                         Faculdade Messianica             Teologia   \n",
              "2200                         Faculdade Messianica            Pedagogia   \n",
              "2201               Faculdade de São VIcente - FSV  Gestão da Qualidade   \n",
              "2202               Faculdade de São VIcente - FSV            Marketing   \n",
              "\n",
              "      nota_integral_ampla  nota_integral_cotas  nota_parcial_ampla  \\\n",
              "0                  739.62               738.08              738.96   \n",
              "1                  758.32               723.94              734.92   \n",
              "2                  741.06               729.02              730.98   \n",
              "3                  741.36               739.90              760.80   \n",
              "4                  756.46               737.88              747.14   \n",
              "...                   ...                  ...                 ...   \n",
              "2198               584.34               450.00              489.28   \n",
              "2199               450.00               450.00              450.00   \n",
              "2200               497.78               506.78              508.48   \n",
              "2201               456.66               450.00              450.00   \n",
              "2202               533.34               450.00              450.00   \n",
              "\n",
              "      nota_parcial_cotas  \n",
              "0                 718.64  \n",
              "1                 711.26  \n",
              "2                 722.82  \n",
              "3                 715.10  \n",
              "4                 717.60  \n",
              "...                  ...  \n",
              "2198              450.00  \n",
              "2199              450.00  \n",
              "2200              451.78  \n",
              "2201              450.00  \n",
              "2202              450.00  \n",
              "\n",
              "[2203 rows x 17 columns]"
            ],
            "text/html": [
              "\n",
              "  <div id=\"df-2141985c-f04e-4e18-92db-f8d71bf4d193\">\n",
              "    <div class=\"colab-df-container\">\n",
              "      <div>\n",
              "<style scoped>\n",
              "    .dataframe tbody tr th:only-of-type {\n",
              "        vertical-align: middle;\n",
              "    }\n",
              "\n",
              "    .dataframe tbody tr th {\n",
              "        vertical-align: top;\n",
              "    }\n",
              "\n",
              "    .dataframe thead th {\n",
              "        text-align: right;\n",
              "    }\n",
              "</style>\n",
              "<table border=\"1\" class=\"dataframe\">\n",
              "  <thead>\n",
              "    <tr style=\"text-align: right;\">\n",
              "      <th></th>\n",
              "      <th>grau</th>\n",
              "      <th>turno</th>\n",
              "      <th>mensalidade</th>\n",
              "      <th>bolsa_integral_cotas</th>\n",
              "      <th>bolsa_integral_ampla</th>\n",
              "      <th>bolsa_parcial_cotas</th>\n",
              "      <th>bolsa_parcial_ampla</th>\n",
              "      <th>curso_id</th>\n",
              "      <th>curso_busca</th>\n",
              "      <th>cidade_busca</th>\n",
              "      <th>uf_busca</th>\n",
              "      <th>universidade_nome</th>\n",
              "      <th>nome</th>\n",
              "      <th>nota_integral_ampla</th>\n",
              "      <th>nota_integral_cotas</th>\n",
              "      <th>nota_parcial_ampla</th>\n",
              "      <th>nota_parcial_cotas</th>\n",
              "    </tr>\n",
              "  </thead>\n",
              "  <tbody>\n",
              "    <tr>\n",
              "      <th>0</th>\n",
              "      <td>Bacharelado</td>\n",
              "      <td>Integral</td>\n",
              "      <td>9715.61</td>\n",
              "      <td>2.0</td>\n",
              "      <td>5.0</td>\n",
              "      <td>6.0</td>\n",
              "      <td>10.0</td>\n",
              "      <td>1002328574024</td>\n",
              "      <td>Medicina</td>\n",
              "      <td>Sao Paulo</td>\n",
              "      <td>SP</td>\n",
              "      <td>Universidade Cidade de São Paulo - UNICID</td>\n",
              "      <td>Medicina</td>\n",
              "      <td>739.62</td>\n",
              "      <td>738.08</td>\n",
              "      <td>738.96</td>\n",
              "      <td>718.64</td>\n",
              "    </tr>\n",
              "    <tr>\n",
              "      <th>1</th>\n",
              "      <td>Bacharelado</td>\n",
              "      <td>Integral</td>\n",
              "      <td>9674.34</td>\n",
              "      <td>4.0</td>\n",
              "      <td>1.0</td>\n",
              "      <td>5.0</td>\n",
              "      <td>2.0</td>\n",
              "      <td>65899611932754</td>\n",
              "      <td>Medicina</td>\n",
              "      <td>Rio Branco</td>\n",
              "      <td>AC</td>\n",
              "      <td>Faculdade Barão do Rio Branco - FAB</td>\n",
              "      <td>Medicina</td>\n",
              "      <td>758.32</td>\n",
              "      <td>723.94</td>\n",
              "      <td>734.92</td>\n",
              "      <td>711.26</td>\n",
              "    </tr>\n",
              "    <tr>\n",
              "      <th>2</th>\n",
              "      <td>Bacharelado</td>\n",
              "      <td>Integral</td>\n",
              "      <td>9023.07</td>\n",
              "      <td>4.0</td>\n",
              "      <td>4.0</td>\n",
              "      <td>5.0</td>\n",
              "      <td>5.0</td>\n",
              "      <td>65921511844324</td>\n",
              "      <td>Medicina</td>\n",
              "      <td>Itaperuna</td>\n",
              "      <td>RJ</td>\n",
              "      <td>Faculdade Redentor - FACREDENTOR</td>\n",
              "      <td>Medicina</td>\n",
              "      <td>741.06</td>\n",
              "      <td>729.02</td>\n",
              "      <td>730.98</td>\n",
              "      <td>722.82</td>\n",
              "    </tr>\n",
              "    <tr>\n",
              "      <th>3</th>\n",
              "      <td>Bacharelado</td>\n",
              "      <td>Integral</td>\n",
              "      <td>8508.54</td>\n",
              "      <td>2.0</td>\n",
              "      <td>1.0</td>\n",
              "      <td>7.0</td>\n",
              "      <td>2.0</td>\n",
              "      <td>104123711716094</td>\n",
              "      <td>Medicina</td>\n",
              "      <td>Belem</td>\n",
              "      <td>PA</td>\n",
              "      <td>Faculdade Metropolitana da Amazônia - FAMAZ</td>\n",
              "      <td>Medicina</td>\n",
              "      <td>741.36</td>\n",
              "      <td>739.90</td>\n",
              "      <td>760.80</td>\n",
              "      <td>715.10</td>\n",
              "    </tr>\n",
              "    <tr>\n",
              "      <th>4</th>\n",
              "      <td>Bacharelado</td>\n",
              "      <td>Integral</td>\n",
              "      <td>8281.38</td>\n",
              "      <td>3.0</td>\n",
              "      <td>1.0</td>\n",
              "      <td>6.0</td>\n",
              "      <td>2.0</td>\n",
              "      <td>105887911921884</td>\n",
              "      <td>Medicina</td>\n",
              "      <td>Imperatriz</td>\n",
              "      <td>MA</td>\n",
              "      <td>Universidade do Ceuma - Uniceuma - UNICEUMA</td>\n",
              "      <td>Medicina</td>\n",
              "      <td>756.46</td>\n",
              "      <td>737.88</td>\n",
              "      <td>747.14</td>\n",
              "      <td>717.60</td>\n",
              "    </tr>\n",
              "    <tr>\n",
              "      <th>...</th>\n",
              "      <td>...</td>\n",
              "      <td>...</td>\n",
              "      <td>...</td>\n",
              "      <td>...</td>\n",
              "      <td>...</td>\n",
              "      <td>...</td>\n",
              "      <td>...</td>\n",
              "      <td>...</td>\n",
              "      <td>...</td>\n",
              "      <td>...</td>\n",
              "      <td>...</td>\n",
              "      <td>...</td>\n",
              "      <td>...</td>\n",
              "      <td>...</td>\n",
              "      <td>...</td>\n",
              "      <td>...</td>\n",
              "      <td>...</td>\n",
              "    </tr>\n",
              "    <tr>\n",
              "      <th>2198</th>\n",
              "      <td>Bacharelado</td>\n",
              "      <td>Curso a Distância</td>\n",
              "      <td>189.00</td>\n",
              "      <td>1.0</td>\n",
              "      <td>2.0</td>\n",
              "      <td>1.0</td>\n",
              "      <td>3.0</td>\n",
              "      <td>65991211887475</td>\n",
              "      <td>Teologia</td>\n",
              "      <td>Sao Paulo</td>\n",
              "      <td>SP</td>\n",
              "      <td>Faculdade Messianica</td>\n",
              "      <td>Teologia</td>\n",
              "      <td>584.34</td>\n",
              "      <td>450.00</td>\n",
              "      <td>489.28</td>\n",
              "      <td>450.00</td>\n",
              "    </tr>\n",
              "    <tr>\n",
              "      <th>2199</th>\n",
              "      <td>Bacharelado</td>\n",
              "      <td>Curso a Distância</td>\n",
              "      <td>189.00</td>\n",
              "      <td>1.0</td>\n",
              "      <td>1.0</td>\n",
              "      <td>1.0</td>\n",
              "      <td>3.0</td>\n",
              "      <td>104980411887475</td>\n",
              "      <td>Teologia</td>\n",
              "      <td>Sao Paulo</td>\n",
              "      <td>SP</td>\n",
              "      <td>Faculdade Messianica</td>\n",
              "      <td>Teologia</td>\n",
              "      <td>450.00</td>\n",
              "      <td>450.00</td>\n",
              "      <td>450.00</td>\n",
              "      <td>450.00</td>\n",
              "    </tr>\n",
              "    <tr>\n",
              "      <th>2200</th>\n",
              "      <td>Licenciatura</td>\n",
              "      <td>Curso a Distância</td>\n",
              "      <td>189.00</td>\n",
              "      <td>1.0</td>\n",
              "      <td>1.0</td>\n",
              "      <td>1.0</td>\n",
              "      <td>3.0</td>\n",
              "      <td>65991213655645</td>\n",
              "      <td>Pedagogia</td>\n",
              "      <td>Sao Paulo</td>\n",
              "      <td>SP</td>\n",
              "      <td>Faculdade Messianica</td>\n",
              "      <td>Pedagogia</td>\n",
              "      <td>497.78</td>\n",
              "      <td>506.78</td>\n",
              "      <td>508.48</td>\n",
              "      <td>451.78</td>\n",
              "    </tr>\n",
              "    <tr>\n",
              "      <th>2201</th>\n",
              "      <td>Tecnológico</td>\n",
              "      <td>Noturno</td>\n",
              "      <td>188.00</td>\n",
              "      <td>1.0</td>\n",
              "      <td>2.0</td>\n",
              "      <td>1.0</td>\n",
              "      <td>9.0</td>\n",
              "      <td>65868713317703</td>\n",
              "      <td>Gestão da Qualidade</td>\n",
              "      <td>Sao VIcente</td>\n",
              "      <td>SP</td>\n",
              "      <td>Faculdade de São VIcente - FSV</td>\n",
              "      <td>Gestão da Qualidade</td>\n",
              "      <td>456.66</td>\n",
              "      <td>450.00</td>\n",
              "      <td>450.00</td>\n",
              "      <td>450.00</td>\n",
              "    </tr>\n",
              "    <tr>\n",
              "      <th>2202</th>\n",
              "      <td>Tecnológico</td>\n",
              "      <td>Curso a Distância</td>\n",
              "      <td>144.00</td>\n",
              "      <td>1.0</td>\n",
              "      <td>2.0</td>\n",
              "      <td>2.0</td>\n",
              "      <td>5.0</td>\n",
              "      <td>65868712869275</td>\n",
              "      <td>Marketing</td>\n",
              "      <td>Sao VIcente</td>\n",
              "      <td>SP</td>\n",
              "      <td>Faculdade de São VIcente - FSV</td>\n",
              "      <td>Marketing</td>\n",
              "      <td>533.34</td>\n",
              "      <td>450.00</td>\n",
              "      <td>450.00</td>\n",
              "      <td>450.00</td>\n",
              "    </tr>\n",
              "  </tbody>\n",
              "</table>\n",
              "<p>2203 rows × 17 columns</p>\n",
              "</div>\n",
              "      <button class=\"colab-df-convert\" onclick=\"convertToInteractive('df-2141985c-f04e-4e18-92db-f8d71bf4d193')\"\n",
              "              title=\"Convert this dataframe to an interactive table.\"\n",
              "              style=\"display:none;\">\n",
              "        \n",
              "  <svg xmlns=\"http://www.w3.org/2000/svg\" height=\"24px\"viewBox=\"0 0 24 24\"\n",
              "       width=\"24px\">\n",
              "    <path d=\"M0 0h24v24H0V0z\" fill=\"none\"/>\n",
              "    <path d=\"M18.56 5.44l.94 2.06.94-2.06 2.06-.94-2.06-.94-.94-2.06-.94 2.06-2.06.94zm-11 1L8.5 8.5l.94-2.06 2.06-.94-2.06-.94L8.5 2.5l-.94 2.06-2.06.94zm10 10l.94 2.06.94-2.06 2.06-.94-2.06-.94-.94-2.06-.94 2.06-2.06.94z\"/><path d=\"M17.41 7.96l-1.37-1.37c-.4-.4-.92-.59-1.43-.59-.52 0-1.04.2-1.43.59L10.3 9.45l-7.72 7.72c-.78.78-.78 2.05 0 2.83L4 21.41c.39.39.9.59 1.41.59.51 0 1.02-.2 1.41-.59l7.78-7.78 2.81-2.81c.8-.78.8-2.07 0-2.86zM5.41 20L4 18.59l7.72-7.72 1.47 1.35L5.41 20z\"/>\n",
              "  </svg>\n",
              "      </button>\n",
              "      \n",
              "  <style>\n",
              "    .colab-df-container {\n",
              "      display:flex;\n",
              "      flex-wrap:wrap;\n",
              "      gap: 12px;\n",
              "    }\n",
              "\n",
              "    .colab-df-convert {\n",
              "      background-color: #E8F0FE;\n",
              "      border: none;\n",
              "      border-radius: 50%;\n",
              "      cursor: pointer;\n",
              "      display: none;\n",
              "      fill: #1967D2;\n",
              "      height: 32px;\n",
              "      padding: 0 0 0 0;\n",
              "      width: 32px;\n",
              "    }\n",
              "\n",
              "    .colab-df-convert:hover {\n",
              "      background-color: #E2EBFA;\n",
              "      box-shadow: 0px 1px 2px rgba(60, 64, 67, 0.3), 0px 1px 3px 1px rgba(60, 64, 67, 0.15);\n",
              "      fill: #174EA6;\n",
              "    }\n",
              "\n",
              "    [theme=dark] .colab-df-convert {\n",
              "      background-color: #3B4455;\n",
              "      fill: #D2E3FC;\n",
              "    }\n",
              "\n",
              "    [theme=dark] .colab-df-convert:hover {\n",
              "      background-color: #434B5C;\n",
              "      box-shadow: 0px 1px 3px 1px rgba(0, 0, 0, 0.15);\n",
              "      filter: drop-shadow(0px 1px 2px rgba(0, 0, 0, 0.3));\n",
              "      fill: #FFFFFF;\n",
              "    }\n",
              "  </style>\n",
              "\n",
              "      <script>\n",
              "        const buttonEl =\n",
              "          document.querySelector('#df-2141985c-f04e-4e18-92db-f8d71bf4d193 button.colab-df-convert');\n",
              "        buttonEl.style.display =\n",
              "          google.colab.kernel.accessAllowed ? 'block' : 'none';\n",
              "\n",
              "        async function convertToInteractive(key) {\n",
              "          const element = document.querySelector('#df-2141985c-f04e-4e18-92db-f8d71bf4d193');\n",
              "          const dataTable =\n",
              "            await google.colab.kernel.invokeFunction('convertToInteractive',\n",
              "                                                     [key], {});\n",
              "          if (!dataTable) return;\n",
              "\n",
              "          const docLinkHtml = 'Like what you see? Visit the ' +\n",
              "            '<a target=\"_blank\" href=https://colab.research.google.com/notebooks/data_table.ipynb>data table notebook</a>'\n",
              "            + ' to learn more about interactive tables.';\n",
              "          element.innerHTML = '';\n",
              "          dataTable['output_type'] = 'display_data';\n",
              "          await google.colab.output.renderOutput(dataTable, element);\n",
              "          const docLink = document.createElement('div');\n",
              "          docLink.innerHTML = docLinkHtml;\n",
              "          element.appendChild(docLink);\n",
              "        }\n",
              "      </script>\n",
              "    </div>\n",
              "  </div>\n",
              "  "
            ]
          },
          "metadata": {},
          "execution_count": 112
        }
      ]
    },
    {
      "cell_type": "code",
      "source": [
        "df_brasilia = df.loc[df.cidade_busca == 'Brasilia']"
      ],
      "metadata": {
        "id": "MmfOvDFat09B"
      },
      "execution_count": null,
      "outputs": []
    },
    {
      "cell_type": "code",
      "source": [
        "df_brasilia.shape"
      ],
      "metadata": {
        "colab": {
          "base_uri": "https://localhost:8080/"
        },
        "id": "nX5pHNG7ufCu",
        "outputId": "435c09b6-543b-4813-9e00-d21da88f0033"
      },
      "execution_count": null,
      "outputs": [
        {
          "output_type": "execute_result",
          "data": {
            "text/plain": [
              "(87, 17)"
            ]
          },
          "metadata": {},
          "execution_count": 114
        }
      ]
    },
    {
      "cell_type": "code",
      "source": [
        "df_brasilia.head()"
      ],
      "metadata": {
        "colab": {
          "base_uri": "https://localhost:8080/",
          "height": 426
        },
        "id": "4mKrBu-Vuk2K",
        "outputId": "31cb9421-3e7f-45c1-9157-a0c96ed9a4b8"
      },
      "execution_count": null,
      "outputs": [
        {
          "output_type": "execute_result",
          "data": {
            "text/plain": [
              "            grau     turno  mensalidade  bolsa_integral_cotas  \\\n",
              "36   Bacharelado  Matutino      2221.36                   1.0   \n",
              "37   Bacharelado   Noturno      2221.36                   1.0   \n",
              "79   Bacharelado   Noturno      1783.25                   1.0   \n",
              "80   Bacharelado   Noturno      1783.25                   1.0   \n",
              "117  Bacharelado  Matutino      1575.00                   3.0   \n",
              "\n",
              "     bolsa_integral_ampla  bolsa_parcial_cotas  bolsa_parcial_ampla  \\\n",
              "36                    1.0                  4.0                  3.0   \n",
              "37                    1.0                  2.0                  1.0   \n",
              "79                    1.0                  2.0                 27.0   \n",
              "80                    1.0                  2.0                 22.0   \n",
              "117                   3.0                  4.0                  4.0   \n",
              "\n",
              "            curso_id   curso_busca cidade_busca uf_busca  \\\n",
              "36   103756311578501   Odontologia     Brasilia       DF   \n",
              "37   103756311578503   Odontologia     Brasilia       DF   \n",
              "79   106582512635903  Fisioterapia     Brasilia       DF   \n",
              "80   106582512635893    Enfermagem     Brasilia       DF   \n",
              "117   13759010577671       Direito     Brasilia       DF   \n",
              "\n",
              "                                     universidade_nome          nome  \\\n",
              "36   Centro Universitário do Distrito Federal - Udf...   Odontologia   \n",
              "37   Centro Universitário do Distrito Federal - Udf...   Odontologia   \n",
              "79               Faculdade Jk Brasília Asa Sul II - JK  Fisioterapia   \n",
              "80               Faculdade Jk Brasília Asa Sul II - JK    Enfermagem   \n",
              "117                Escola de Direito de Brasília - EDB       Direito   \n",
              "\n",
              "     nota_integral_ampla  nota_integral_cotas  nota_parcial_ampla  \\\n",
              "36                685.36               667.86              649.80   \n",
              "37                714.18               691.50              654.58   \n",
              "79                643.58               623.30              450.00   \n",
              "80                619.34               588.92              450.00   \n",
              "117               687.12               660.50              649.68   \n",
              "\n",
              "     nota_parcial_cotas  \n",
              "36               632.00  \n",
              "37               609.26  \n",
              "79               517.18  \n",
              "80               450.00  \n",
              "117              606.72  "
            ],
            "text/html": [
              "\n",
              "  <div id=\"df-89c71339-e4fc-4d88-ac97-99213bc4a461\">\n",
              "    <div class=\"colab-df-container\">\n",
              "      <div>\n",
              "<style scoped>\n",
              "    .dataframe tbody tr th:only-of-type {\n",
              "        vertical-align: middle;\n",
              "    }\n",
              "\n",
              "    .dataframe tbody tr th {\n",
              "        vertical-align: top;\n",
              "    }\n",
              "\n",
              "    .dataframe thead th {\n",
              "        text-align: right;\n",
              "    }\n",
              "</style>\n",
              "<table border=\"1\" class=\"dataframe\">\n",
              "  <thead>\n",
              "    <tr style=\"text-align: right;\">\n",
              "      <th></th>\n",
              "      <th>grau</th>\n",
              "      <th>turno</th>\n",
              "      <th>mensalidade</th>\n",
              "      <th>bolsa_integral_cotas</th>\n",
              "      <th>bolsa_integral_ampla</th>\n",
              "      <th>bolsa_parcial_cotas</th>\n",
              "      <th>bolsa_parcial_ampla</th>\n",
              "      <th>curso_id</th>\n",
              "      <th>curso_busca</th>\n",
              "      <th>cidade_busca</th>\n",
              "      <th>uf_busca</th>\n",
              "      <th>universidade_nome</th>\n",
              "      <th>nome</th>\n",
              "      <th>nota_integral_ampla</th>\n",
              "      <th>nota_integral_cotas</th>\n",
              "      <th>nota_parcial_ampla</th>\n",
              "      <th>nota_parcial_cotas</th>\n",
              "    </tr>\n",
              "  </thead>\n",
              "  <tbody>\n",
              "    <tr>\n",
              "      <th>36</th>\n",
              "      <td>Bacharelado</td>\n",
              "      <td>Matutino</td>\n",
              "      <td>2221.36</td>\n",
              "      <td>1.0</td>\n",
              "      <td>1.0</td>\n",
              "      <td>4.0</td>\n",
              "      <td>3.0</td>\n",
              "      <td>103756311578501</td>\n",
              "      <td>Odontologia</td>\n",
              "      <td>Brasilia</td>\n",
              "      <td>DF</td>\n",
              "      <td>Centro Universitário do Distrito Federal - Udf...</td>\n",
              "      <td>Odontologia</td>\n",
              "      <td>685.36</td>\n",
              "      <td>667.86</td>\n",
              "      <td>649.80</td>\n",
              "      <td>632.00</td>\n",
              "    </tr>\n",
              "    <tr>\n",
              "      <th>37</th>\n",
              "      <td>Bacharelado</td>\n",
              "      <td>Noturno</td>\n",
              "      <td>2221.36</td>\n",
              "      <td>1.0</td>\n",
              "      <td>1.0</td>\n",
              "      <td>2.0</td>\n",
              "      <td>1.0</td>\n",
              "      <td>103756311578503</td>\n",
              "      <td>Odontologia</td>\n",
              "      <td>Brasilia</td>\n",
              "      <td>DF</td>\n",
              "      <td>Centro Universitário do Distrito Federal - Udf...</td>\n",
              "      <td>Odontologia</td>\n",
              "      <td>714.18</td>\n",
              "      <td>691.50</td>\n",
              "      <td>654.58</td>\n",
              "      <td>609.26</td>\n",
              "    </tr>\n",
              "    <tr>\n",
              "      <th>79</th>\n",
              "      <td>Bacharelado</td>\n",
              "      <td>Noturno</td>\n",
              "      <td>1783.25</td>\n",
              "      <td>1.0</td>\n",
              "      <td>1.0</td>\n",
              "      <td>2.0</td>\n",
              "      <td>27.0</td>\n",
              "      <td>106582512635903</td>\n",
              "      <td>Fisioterapia</td>\n",
              "      <td>Brasilia</td>\n",
              "      <td>DF</td>\n",
              "      <td>Faculdade Jk Brasília Asa Sul II - JK</td>\n",
              "      <td>Fisioterapia</td>\n",
              "      <td>643.58</td>\n",
              "      <td>623.30</td>\n",
              "      <td>450.00</td>\n",
              "      <td>517.18</td>\n",
              "    </tr>\n",
              "    <tr>\n",
              "      <th>80</th>\n",
              "      <td>Bacharelado</td>\n",
              "      <td>Noturno</td>\n",
              "      <td>1783.25</td>\n",
              "      <td>1.0</td>\n",
              "      <td>1.0</td>\n",
              "      <td>2.0</td>\n",
              "      <td>22.0</td>\n",
              "      <td>106582512635893</td>\n",
              "      <td>Enfermagem</td>\n",
              "      <td>Brasilia</td>\n",
              "      <td>DF</td>\n",
              "      <td>Faculdade Jk Brasília Asa Sul II - JK</td>\n",
              "      <td>Enfermagem</td>\n",
              "      <td>619.34</td>\n",
              "      <td>588.92</td>\n",
              "      <td>450.00</td>\n",
              "      <td>450.00</td>\n",
              "    </tr>\n",
              "    <tr>\n",
              "      <th>117</th>\n",
              "      <td>Bacharelado</td>\n",
              "      <td>Matutino</td>\n",
              "      <td>1575.00</td>\n",
              "      <td>3.0</td>\n",
              "      <td>3.0</td>\n",
              "      <td>4.0</td>\n",
              "      <td>4.0</td>\n",
              "      <td>13759010577671</td>\n",
              "      <td>Direito</td>\n",
              "      <td>Brasilia</td>\n",
              "      <td>DF</td>\n",
              "      <td>Escola de Direito de Brasília - EDB</td>\n",
              "      <td>Direito</td>\n",
              "      <td>687.12</td>\n",
              "      <td>660.50</td>\n",
              "      <td>649.68</td>\n",
              "      <td>606.72</td>\n",
              "    </tr>\n",
              "  </tbody>\n",
              "</table>\n",
              "</div>\n",
              "      <button class=\"colab-df-convert\" onclick=\"convertToInteractive('df-89c71339-e4fc-4d88-ac97-99213bc4a461')\"\n",
              "              title=\"Convert this dataframe to an interactive table.\"\n",
              "              style=\"display:none;\">\n",
              "        \n",
              "  <svg xmlns=\"http://www.w3.org/2000/svg\" height=\"24px\"viewBox=\"0 0 24 24\"\n",
              "       width=\"24px\">\n",
              "    <path d=\"M0 0h24v24H0V0z\" fill=\"none\"/>\n",
              "    <path d=\"M18.56 5.44l.94 2.06.94-2.06 2.06-.94-2.06-.94-.94-2.06-.94 2.06-2.06.94zm-11 1L8.5 8.5l.94-2.06 2.06-.94-2.06-.94L8.5 2.5l-.94 2.06-2.06.94zm10 10l.94 2.06.94-2.06 2.06-.94-2.06-.94-.94-2.06-.94 2.06-2.06.94z\"/><path d=\"M17.41 7.96l-1.37-1.37c-.4-.4-.92-.59-1.43-.59-.52 0-1.04.2-1.43.59L10.3 9.45l-7.72 7.72c-.78.78-.78 2.05 0 2.83L4 21.41c.39.39.9.59 1.41.59.51 0 1.02-.2 1.41-.59l7.78-7.78 2.81-2.81c.8-.78.8-2.07 0-2.86zM5.41 20L4 18.59l7.72-7.72 1.47 1.35L5.41 20z\"/>\n",
              "  </svg>\n",
              "      </button>\n",
              "      \n",
              "  <style>\n",
              "    .colab-df-container {\n",
              "      display:flex;\n",
              "      flex-wrap:wrap;\n",
              "      gap: 12px;\n",
              "    }\n",
              "\n",
              "    .colab-df-convert {\n",
              "      background-color: #E8F0FE;\n",
              "      border: none;\n",
              "      border-radius: 50%;\n",
              "      cursor: pointer;\n",
              "      display: none;\n",
              "      fill: #1967D2;\n",
              "      height: 32px;\n",
              "      padding: 0 0 0 0;\n",
              "      width: 32px;\n",
              "    }\n",
              "\n",
              "    .colab-df-convert:hover {\n",
              "      background-color: #E2EBFA;\n",
              "      box-shadow: 0px 1px 2px rgba(60, 64, 67, 0.3), 0px 1px 3px 1px rgba(60, 64, 67, 0.15);\n",
              "      fill: #174EA6;\n",
              "    }\n",
              "\n",
              "    [theme=dark] .colab-df-convert {\n",
              "      background-color: #3B4455;\n",
              "      fill: #D2E3FC;\n",
              "    }\n",
              "\n",
              "    [theme=dark] .colab-df-convert:hover {\n",
              "      background-color: #434B5C;\n",
              "      box-shadow: 0px 1px 3px 1px rgba(0, 0, 0, 0.15);\n",
              "      filter: drop-shadow(0px 1px 2px rgba(0, 0, 0, 0.3));\n",
              "      fill: #FFFFFF;\n",
              "    }\n",
              "  </style>\n",
              "\n",
              "      <script>\n",
              "        const buttonEl =\n",
              "          document.querySelector('#df-89c71339-e4fc-4d88-ac97-99213bc4a461 button.colab-df-convert');\n",
              "        buttonEl.style.display =\n",
              "          google.colab.kernel.accessAllowed ? 'block' : 'none';\n",
              "\n",
              "        async function convertToInteractive(key) {\n",
              "          const element = document.querySelector('#df-89c71339-e4fc-4d88-ac97-99213bc4a461');\n",
              "          const dataTable =\n",
              "            await google.colab.kernel.invokeFunction('convertToInteractive',\n",
              "                                                     [key], {});\n",
              "          if (!dataTable) return;\n",
              "\n",
              "          const docLinkHtml = 'Like what you see? Visit the ' +\n",
              "            '<a target=\"_blank\" href=https://colab.research.google.com/notebooks/data_table.ipynb>data table notebook</a>'\n",
              "            + ' to learn more about interactive tables.';\n",
              "          element.innerHTML = '';\n",
              "          dataTable['output_type'] = 'display_data';\n",
              "          await google.colab.output.renderOutput(dataTable, element);\n",
              "          const docLink = document.createElement('div');\n",
              "          docLink.innerHTML = docLinkHtml;\n",
              "          element.appendChild(docLink);\n",
              "        }\n",
              "      </script>\n",
              "    </div>\n",
              "  </div>\n",
              "  "
            ]
          },
          "metadata": {},
          "execution_count": 115
        }
      ]
    },
    {
      "cell_type": "code",
      "source": [
        "#histograma\n",
        "\n",
        "import plotly.express as px\n",
        "grafico =  px.histogram (df_brasilia,  x = \"nota_integral_ampla\", nbins=32, histnorm='percent',) \n",
        "grafico.update_layout(width=400,height=400,title_text='Distribuição de notas (integrais amplas)') \n",
        "grafico.show()"
      ],
      "metadata": {
        "colab": {
          "base_uri": "https://localhost:8080/",
          "height": 417
        },
        "id": "4tDoRZfJu9wU",
        "outputId": "15b20e26-ceb1-4627-8cb4-2eea644f51c9"
      },
      "execution_count": null,
      "outputs": [
        {
          "output_type": "display_data",
          "data": {
            "text/html": [
              "<html>\n",
              "<head><meta charset=\"utf-8\" /></head>\n",
              "<body>\n",
              "    <div>            <script src=\"https://cdnjs.cloudflare.com/ajax/libs/mathjax/2.7.5/MathJax.js?config=TeX-AMS-MML_SVG\"></script><script type=\"text/javascript\">if (window.MathJax) {MathJax.Hub.Config({SVG: {font: \"STIX-Web\"}});}</script>                <script type=\"text/javascript\">window.PlotlyConfig = {MathJaxConfig: 'local'};</script>\n",
              "        <script src=\"https://cdn.plot.ly/plotly-2.8.3.min.js\"></script>                <div id=\"142d765c-eaf6-4dc1-80d6-b17b72270008\" class=\"plotly-graph-div\" style=\"height:400px; width:400px;\"></div>            <script type=\"text/javascript\">                                    window.PLOTLYENV=window.PLOTLYENV || {};                                    if (document.getElementById(\"142d765c-eaf6-4dc1-80d6-b17b72270008\")) {                    Plotly.newPlot(                        \"142d765c-eaf6-4dc1-80d6-b17b72270008\",                        [{\"alignmentgroup\":\"True\",\"bingroup\":\"x\",\"histnorm\":\"percent\",\"hovertemplate\":\"nota_integral_ampla=%{x}<br>percent=%{y}<extra></extra>\",\"legendgroup\":\"\",\"marker\":{\"color\":\"#636efa\",\"pattern\":{\"shape\":\"\"}},\"name\":\"\",\"nbinsx\":32,\"offsetgroup\":\"\",\"orientation\":\"v\",\"showlegend\":false,\"x\":[685.36,714.18,643.58,619.34,687.12,691.66,624.54,667.16,670.44,652.82,646.26,582.68,620.26,653.14,630.12,635.02,631.08,625.98,622.78,600.46,619.96,616.0,613.62,636.82,612.52,672.86,638.76,626.34,590.8,626.22,612.98,497.82,626.16,633.96,585.16,625.96,632.2,637.78,662.88,659.62,588.76,590.74,630.36,602.84,614.56,598.82,594.84,627.58,636.36,596.44,631.26,625.72,610.94,588.78,627.0,576.4,589.08,627.16,545.2,630.22,600.48,544.86,593.72,593.52,553.34,628.68,581.3,579.82,586.56,575.38,578.9,574.26,668.08,590.82,572.12,547.72,565.9,649.02,601.9,547.22,593.3,560.04,608.1,606.96,595.48,534.32,546.12],\"xaxis\":\"x\",\"yaxis\":\"y\",\"type\":\"histogram\"}],                        {\"template\":{\"data\":{\"bar\":[{\"error_x\":{\"color\":\"#2a3f5f\"},\"error_y\":{\"color\":\"#2a3f5f\"},\"marker\":{\"line\":{\"color\":\"#E5ECF6\",\"width\":0.5},\"pattern\":{\"fillmode\":\"overlay\",\"size\":10,\"solidity\":0.2}},\"type\":\"bar\"}],\"barpolar\":[{\"marker\":{\"line\":{\"color\":\"#E5ECF6\",\"width\":0.5},\"pattern\":{\"fillmode\":\"overlay\",\"size\":10,\"solidity\":0.2}},\"type\":\"barpolar\"}],\"carpet\":[{\"aaxis\":{\"endlinecolor\":\"#2a3f5f\",\"gridcolor\":\"white\",\"linecolor\":\"white\",\"minorgridcolor\":\"white\",\"startlinecolor\":\"#2a3f5f\"},\"baxis\":{\"endlinecolor\":\"#2a3f5f\",\"gridcolor\":\"white\",\"linecolor\":\"white\",\"minorgridcolor\":\"white\",\"startlinecolor\":\"#2a3f5f\"},\"type\":\"carpet\"}],\"choropleth\":[{\"colorbar\":{\"outlinewidth\":0,\"ticks\":\"\"},\"type\":\"choropleth\"}],\"contour\":[{\"colorbar\":{\"outlinewidth\":0,\"ticks\":\"\"},\"colorscale\":[[0.0,\"#0d0887\"],[0.1111111111111111,\"#46039f\"],[0.2222222222222222,\"#7201a8\"],[0.3333333333333333,\"#9c179e\"],[0.4444444444444444,\"#bd3786\"],[0.5555555555555556,\"#d8576b\"],[0.6666666666666666,\"#ed7953\"],[0.7777777777777778,\"#fb9f3a\"],[0.8888888888888888,\"#fdca26\"],[1.0,\"#f0f921\"]],\"type\":\"contour\"}],\"contourcarpet\":[{\"colorbar\":{\"outlinewidth\":0,\"ticks\":\"\"},\"type\":\"contourcarpet\"}],\"heatmap\":[{\"colorbar\":{\"outlinewidth\":0,\"ticks\":\"\"},\"colorscale\":[[0.0,\"#0d0887\"],[0.1111111111111111,\"#46039f\"],[0.2222222222222222,\"#7201a8\"],[0.3333333333333333,\"#9c179e\"],[0.4444444444444444,\"#bd3786\"],[0.5555555555555556,\"#d8576b\"],[0.6666666666666666,\"#ed7953\"],[0.7777777777777778,\"#fb9f3a\"],[0.8888888888888888,\"#fdca26\"],[1.0,\"#f0f921\"]],\"type\":\"heatmap\"}],\"heatmapgl\":[{\"colorbar\":{\"outlinewidth\":0,\"ticks\":\"\"},\"colorscale\":[[0.0,\"#0d0887\"],[0.1111111111111111,\"#46039f\"],[0.2222222222222222,\"#7201a8\"],[0.3333333333333333,\"#9c179e\"],[0.4444444444444444,\"#bd3786\"],[0.5555555555555556,\"#d8576b\"],[0.6666666666666666,\"#ed7953\"],[0.7777777777777778,\"#fb9f3a\"],[0.8888888888888888,\"#fdca26\"],[1.0,\"#f0f921\"]],\"type\":\"heatmapgl\"}],\"histogram\":[{\"marker\":{\"pattern\":{\"fillmode\":\"overlay\",\"size\":10,\"solidity\":0.2}},\"type\":\"histogram\"}],\"histogram2d\":[{\"colorbar\":{\"outlinewidth\":0,\"ticks\":\"\"},\"colorscale\":[[0.0,\"#0d0887\"],[0.1111111111111111,\"#46039f\"],[0.2222222222222222,\"#7201a8\"],[0.3333333333333333,\"#9c179e\"],[0.4444444444444444,\"#bd3786\"],[0.5555555555555556,\"#d8576b\"],[0.6666666666666666,\"#ed7953\"],[0.7777777777777778,\"#fb9f3a\"],[0.8888888888888888,\"#fdca26\"],[1.0,\"#f0f921\"]],\"type\":\"histogram2d\"}],\"histogram2dcontour\":[{\"colorbar\":{\"outlinewidth\":0,\"ticks\":\"\"},\"colorscale\":[[0.0,\"#0d0887\"],[0.1111111111111111,\"#46039f\"],[0.2222222222222222,\"#7201a8\"],[0.3333333333333333,\"#9c179e\"],[0.4444444444444444,\"#bd3786\"],[0.5555555555555556,\"#d8576b\"],[0.6666666666666666,\"#ed7953\"],[0.7777777777777778,\"#fb9f3a\"],[0.8888888888888888,\"#fdca26\"],[1.0,\"#f0f921\"]],\"type\":\"histogram2dcontour\"}],\"mesh3d\":[{\"colorbar\":{\"outlinewidth\":0,\"ticks\":\"\"},\"type\":\"mesh3d\"}],\"parcoords\":[{\"line\":{\"colorbar\":{\"outlinewidth\":0,\"ticks\":\"\"}},\"type\":\"parcoords\"}],\"pie\":[{\"automargin\":true,\"type\":\"pie\"}],\"scatter\":[{\"marker\":{\"colorbar\":{\"outlinewidth\":0,\"ticks\":\"\"}},\"type\":\"scatter\"}],\"scatter3d\":[{\"line\":{\"colorbar\":{\"outlinewidth\":0,\"ticks\":\"\"}},\"marker\":{\"colorbar\":{\"outlinewidth\":0,\"ticks\":\"\"}},\"type\":\"scatter3d\"}],\"scattercarpet\":[{\"marker\":{\"colorbar\":{\"outlinewidth\":0,\"ticks\":\"\"}},\"type\":\"scattercarpet\"}],\"scattergeo\":[{\"marker\":{\"colorbar\":{\"outlinewidth\":0,\"ticks\":\"\"}},\"type\":\"scattergeo\"}],\"scattergl\":[{\"marker\":{\"colorbar\":{\"outlinewidth\":0,\"ticks\":\"\"}},\"type\":\"scattergl\"}],\"scattermapbox\":[{\"marker\":{\"colorbar\":{\"outlinewidth\":0,\"ticks\":\"\"}},\"type\":\"scattermapbox\"}],\"scatterpolar\":[{\"marker\":{\"colorbar\":{\"outlinewidth\":0,\"ticks\":\"\"}},\"type\":\"scatterpolar\"}],\"scatterpolargl\":[{\"marker\":{\"colorbar\":{\"outlinewidth\":0,\"ticks\":\"\"}},\"type\":\"scatterpolargl\"}],\"scatterternary\":[{\"marker\":{\"colorbar\":{\"outlinewidth\":0,\"ticks\":\"\"}},\"type\":\"scatterternary\"}],\"surface\":[{\"colorbar\":{\"outlinewidth\":0,\"ticks\":\"\"},\"colorscale\":[[0.0,\"#0d0887\"],[0.1111111111111111,\"#46039f\"],[0.2222222222222222,\"#7201a8\"],[0.3333333333333333,\"#9c179e\"],[0.4444444444444444,\"#bd3786\"],[0.5555555555555556,\"#d8576b\"],[0.6666666666666666,\"#ed7953\"],[0.7777777777777778,\"#fb9f3a\"],[0.8888888888888888,\"#fdca26\"],[1.0,\"#f0f921\"]],\"type\":\"surface\"}],\"table\":[{\"cells\":{\"fill\":{\"color\":\"#EBF0F8\"},\"line\":{\"color\":\"white\"}},\"header\":{\"fill\":{\"color\":\"#C8D4E3\"},\"line\":{\"color\":\"white\"}},\"type\":\"table\"}]},\"layout\":{\"annotationdefaults\":{\"arrowcolor\":\"#2a3f5f\",\"arrowhead\":0,\"arrowwidth\":1},\"autotypenumbers\":\"strict\",\"coloraxis\":{\"colorbar\":{\"outlinewidth\":0,\"ticks\":\"\"}},\"colorscale\":{\"diverging\":[[0,\"#8e0152\"],[0.1,\"#c51b7d\"],[0.2,\"#de77ae\"],[0.3,\"#f1b6da\"],[0.4,\"#fde0ef\"],[0.5,\"#f7f7f7\"],[0.6,\"#e6f5d0\"],[0.7,\"#b8e186\"],[0.8,\"#7fbc41\"],[0.9,\"#4d9221\"],[1,\"#276419\"]],\"sequential\":[[0.0,\"#0d0887\"],[0.1111111111111111,\"#46039f\"],[0.2222222222222222,\"#7201a8\"],[0.3333333333333333,\"#9c179e\"],[0.4444444444444444,\"#bd3786\"],[0.5555555555555556,\"#d8576b\"],[0.6666666666666666,\"#ed7953\"],[0.7777777777777778,\"#fb9f3a\"],[0.8888888888888888,\"#fdca26\"],[1.0,\"#f0f921\"]],\"sequentialminus\":[[0.0,\"#0d0887\"],[0.1111111111111111,\"#46039f\"],[0.2222222222222222,\"#7201a8\"],[0.3333333333333333,\"#9c179e\"],[0.4444444444444444,\"#bd3786\"],[0.5555555555555556,\"#d8576b\"],[0.6666666666666666,\"#ed7953\"],[0.7777777777777778,\"#fb9f3a\"],[0.8888888888888888,\"#fdca26\"],[1.0,\"#f0f921\"]]},\"colorway\":[\"#636efa\",\"#EF553B\",\"#00cc96\",\"#ab63fa\",\"#FFA15A\",\"#19d3f3\",\"#FF6692\",\"#B6E880\",\"#FF97FF\",\"#FECB52\"],\"font\":{\"color\":\"#2a3f5f\"},\"geo\":{\"bgcolor\":\"white\",\"lakecolor\":\"white\",\"landcolor\":\"#E5ECF6\",\"showlakes\":true,\"showland\":true,\"subunitcolor\":\"white\"},\"hoverlabel\":{\"align\":\"left\"},\"hovermode\":\"closest\",\"mapbox\":{\"style\":\"light\"},\"paper_bgcolor\":\"white\",\"plot_bgcolor\":\"#E5ECF6\",\"polar\":{\"angularaxis\":{\"gridcolor\":\"white\",\"linecolor\":\"white\",\"ticks\":\"\"},\"bgcolor\":\"#E5ECF6\",\"radialaxis\":{\"gridcolor\":\"white\",\"linecolor\":\"white\",\"ticks\":\"\"}},\"scene\":{\"xaxis\":{\"backgroundcolor\":\"#E5ECF6\",\"gridcolor\":\"white\",\"gridwidth\":2,\"linecolor\":\"white\",\"showbackground\":true,\"ticks\":\"\",\"zerolinecolor\":\"white\"},\"yaxis\":{\"backgroundcolor\":\"#E5ECF6\",\"gridcolor\":\"white\",\"gridwidth\":2,\"linecolor\":\"white\",\"showbackground\":true,\"ticks\":\"\",\"zerolinecolor\":\"white\"},\"zaxis\":{\"backgroundcolor\":\"#E5ECF6\",\"gridcolor\":\"white\",\"gridwidth\":2,\"linecolor\":\"white\",\"showbackground\":true,\"ticks\":\"\",\"zerolinecolor\":\"white\"}},\"shapedefaults\":{\"line\":{\"color\":\"#2a3f5f\"}},\"ternary\":{\"aaxis\":{\"gridcolor\":\"white\",\"linecolor\":\"white\",\"ticks\":\"\"},\"baxis\":{\"gridcolor\":\"white\",\"linecolor\":\"white\",\"ticks\":\"\"},\"bgcolor\":\"#E5ECF6\",\"caxis\":{\"gridcolor\":\"white\",\"linecolor\":\"white\",\"ticks\":\"\"}},\"title\":{\"x\":0.05},\"xaxis\":{\"automargin\":true,\"gridcolor\":\"white\",\"linecolor\":\"white\",\"ticks\":\"\",\"title\":{\"standoff\":15},\"zerolinecolor\":\"white\",\"zerolinewidth\":2},\"yaxis\":{\"automargin\":true,\"gridcolor\":\"white\",\"linecolor\":\"white\",\"ticks\":\"\",\"title\":{\"standoff\":15},\"zerolinecolor\":\"white\",\"zerolinewidth\":2}}},\"xaxis\":{\"anchor\":\"y\",\"domain\":[0.0,1.0],\"title\":{\"text\":\"nota_integral_ampla\"}},\"yaxis\":{\"anchor\":\"x\",\"domain\":[0.0,1.0],\"title\":{\"text\":\"percent\"}},\"legend\":{\"tracegroupgap\":0},\"margin\":{\"t\":60},\"barmode\":\"relative\",\"title\":{\"text\":\"Distribui\\u00e7\\u00e3o de notas (integrais amplas)\"},\"width\":400,\"height\":400},                        {\"responsive\": true}                    ).then(function(){\n",
              "                            \n",
              "var gd = document.getElementById('142d765c-eaf6-4dc1-80d6-b17b72270008');\n",
              "var x = new MutationObserver(function (mutations, observer) {{\n",
              "        var display = window.getComputedStyle(gd).display;\n",
              "        if (!display || display === 'none') {{\n",
              "            console.log([gd, 'removed!']);\n",
              "            Plotly.purge(gd);\n",
              "            observer.disconnect();\n",
              "        }}\n",
              "}});\n",
              "\n",
              "// Listen for the removal of the full notebook cells\n",
              "var notebookContainer = gd.closest('#notebook-container');\n",
              "if (notebookContainer) {{\n",
              "    x.observe(notebookContainer, {childList: true});\n",
              "}}\n",
              "\n",
              "// Listen for the clearing of the current output cell\n",
              "var outputEl = gd.closest('.output');\n",
              "if (outputEl) {{\n",
              "    x.observe(outputEl, {childList: true});\n",
              "}}\n",
              "\n",
              "                        })                };                            </script>        </div>\n",
              "</body>\n",
              "</html>"
            ]
          },
          "metadata": {}
        }
      ]
    },
    {
      "cell_type": "code",
      "source": [
        "import plotly.express as px\n",
        "grafico =  px.histogram (df,  x = \"nota_integral_ampla\", nbins=32, histnorm='percent',) \n",
        "grafico.update_layout(width=400,height=400,title_text='Distribuição de notas (integrais amplas)') \n",
        "grafico.show()"
      ],
      "metadata": {
        "colab": {
          "base_uri": "https://localhost:8080/",
          "height": 417
        },
        "id": "tQGCynNpvd7_",
        "outputId": "6732c844-cf99-4bc3-b3b3-cf9e326314f9"
      },
      "execution_count": null,
      "outputs": [
        {
          "output_type": "display_data",
          "data": {
            "text/html": [
              "<html>\n",
              "<head><meta charset=\"utf-8\" /></head>\n",
              "<body>\n",
              "    <div>            <script src=\"https://cdnjs.cloudflare.com/ajax/libs/mathjax/2.7.5/MathJax.js?config=TeX-AMS-MML_SVG\"></script><script type=\"text/javascript\">if (window.MathJax) {MathJax.Hub.Config({SVG: {font: \"STIX-Web\"}});}</script>                <script type=\"text/javascript\">window.PlotlyConfig = {MathJaxConfig: 'local'};</script>\n",
              "        <script src=\"https://cdn.plot.ly/plotly-2.8.3.min.js\"></script>                <div id=\"8e493bf4-9584-46b9-984c-b02d96c4bf4c\" class=\"plotly-graph-div\" style=\"height:400px; width:400px;\"></div>            <script type=\"text/javascript\">                                    window.PLOTLYENV=window.PLOTLYENV || {};                                    if (document.getElementById(\"8e493bf4-9584-46b9-984c-b02d96c4bf4c\")) {                    Plotly.newPlot(                        \"8e493bf4-9584-46b9-984c-b02d96c4bf4c\",                        [{\"alignmentgroup\":\"True\",\"bingroup\":\"x\",\"histnorm\":\"percent\",\"hovertemplate\":\"nota_integral_ampla=%{x}<br>percent=%{y}<extra></extra>\",\"legendgroup\":\"\",\"marker\":{\"color\":\"#636efa\",\"pattern\":{\"shape\":\"\"}},\"name\":\"\",\"nbinsx\":32,\"offsetgroup\":\"\",\"orientation\":\"v\",\"showlegend\":false,\"x\":[739.62,758.32,741.06,741.36,756.46,757.84,735.84,770.5,745.46,754.98,744.88,765.76,742.72,781.2,762.74,680.44,697.74,678.94,714.76,702.72,689.36,667.28,650.72,615.08,698.94,626.36,674.88,603.6,697.6,666.24,671.98,688.44,678.32,712.84,710.4,646.82,685.36,714.18,679.32,692.56,659.42,707.42,639.18,657.32,642.44,681.0,699.8,679.18,657.96,648.6,664.9,632.36,590.76,626.2,580.28,588.96,669.0,667.74,655.66,641.98,695.3,664.5,724.82,689.48,706.24,646.22,634.28,683.84,753.66,585.08,601.0,614.86,665.56,571.66,695.12,706.2,605.18,650.24,665.8,643.58,619.34,602.84,648.94,610.94,631.82,622.64,625.66,602.76,704.86,617.58,638.0,559.22,603.84,666.5,645.46,677.58,679.84,650.88,591.76,698.62,626.2,636.6,630.88,634.06,590.66,602.08,614.36,633.46,637.02,616.32,676.08,594.94,570.32,716.04,685.38,721.3,712.34,687.12,691.66,613.6,651.78,676.68,654.7,583.0,653.96,595.68,619.72,611.24,624.54,607.38,688.7,627.14,656.22,669.98,573.48,588.5,692.84,634.04,664.58,652.82,690.46,597.7,685.22,623.06,568.12,731.74,717.6,677.7,646.34,627.66,641.46,667.16,669.62,685.2,667.16,670.44,613.92,623.68,591.8,630.02,649.72,606.24,574.28,632.76,658.38,624.04,705.94,669.7,656.78,663.36,659.56,647.56,617.68,670.86,655.2,714.0,640.02,621.7,634.5,650.76,649.78,690.22,667.02,637.6,656.12,595.1,643.42,629.62,610.34,594.14,614.14,632.54,616.58,637.7,663.44,618.08,598.18,595.46,638.86,611.82,656.88,599.32,597.84,641.1,671.82,684.6,592.74,609.5,657.94,642.68,618.4,594.78,615.3,598.6,635.42,644.8,661.88,631.66,656.64,636.0,688.04,691.52,636.02,653.02,671.38,582.7,635.94,650.1,669.06,650.84,584.26,645.78,616.6,732.1,627.44,698.78,576.36,616.62,601.88,612.96,679.42,675.3,599.32,633.42,640.02,705.9,615.74,625.9,633.62,653.46,672.7,662.94,622.62,630.42,592.9,605.46,591.92,603.24,641.28,606.54,572.4,636.5,662.86,696.72,629.5,634.08,658.0,636.52,648.36,548.14,616.2,599.1,607.56,662.36,637.06,611.3,623.56,677.86,682.86,651.16,648.38,667.34,638.88,605.06,632.58,638.02,658.9,617.84,593.26,617.58,652.82,646.26,619.08,608.5,676.24,660.7,664.54,682.72,676.84,699.1,688.6,625.16,669.32,582.68,670.42,674.92,672.92,565.7,645.42,626.24,654.84,655.3,643.5,667.74,637.46,616.44,609.96,612.62,652.12,643.5,639.24,591.48,620.26,653.14,614.08,630.12,635.02,631.08,639.06,642.12,630.96,604.8,661.6,623.98,659.4,630.64,603.56,671.46,672.96,644.1,589.86,709.66,684.82,659.54,666.44,630.26,590.56,641.68,634.14,682.06,661.28,604.56,646.76,653.1,593.0,646.36,609.66,606.28,615.4,591.68,636.0,624.72,668.84,590.46,639.24,575.24,608.76,646.12,659.48,633.34,695.24,682.92,555.34,647.22,647.0,652.9,636.62,645.78,631.28,664.96,621.0,646.78,640.56,642.04,667.48,640.54,618.22,669.8,654.36,667.94,598.84,583.0,612.12,645.06,629.34,640.18,680.96,649.52,644.24,583.0,553.9,630.34,617.32,615.34,621.0,671.6,635.74,563.44,637.08,603.78,680.48,625.98,612.62,581.68,591.86,684.28,668.18,577.26,577.62,628.12,615.1,632.34,646.84,649.42,617.62,622.18,626.06,608.82,649.28,619.36,618.6,598.88,645.34,601.34,615.12,607.14,621.1,618.4,619.48,633.98,638.26,605.72,660.2,635.72,632.82,586.14,571.76,619.94,587.06,599.28,670.14,702.14,699.18,635.12,629.32,620.76,622.78,627.46,606.34,679.8,650.86,582.36,665.0,576.66,633.52,590.62,603.88,675.2,652.22,617.68,641.96,670.16,667.1,677.42,568.24,685.9,628.08,662.5,664.7,685.2,603.16,645.18,643.08,629.1,656.12,600.26,608.6,601.86,645.68,490.12,636.74,627.82,652.48,661.54,614.8,620.12,514.48,596.8,534.04,453.22,514.3,450.0,450.0,510.32,459.58,498.66,521.56,681.38,597.76,625.64,628.46,677.76,606.9,582.16,594.18,609.84,613.1,554.86,642.12,635.22,683.28,610.84,607.3,664.54,625.86,636.32,634.9,602.36,613.48,669.58,610.34,621.22,621.58,613.46,590.7,630.76,633.42,648.2,632.36,621.9,653.66,600.46,619.96,646.94,617.42,572.84,623.7,628.9,634.7,671.08,662.12,639.5,645.32,693.0,671.44,677.24,661.34,660.02,629.68,604.8,607.76,630.14,643.04,650.92,659.78,616.0,655.8,613.66,653.48,613.62,591.36,583.8,584.92,595.14,600.74,655.68,681.62,651.72,582.98,588.04,596.2,627.04,669.9,633.62,627.26,660.8,689.58,638.12,613.86,601.14,600.74,598.8,618.1,641.26,691.62,642.12,643.34,596.98,611.54,621.02,607.18,636.96,627.36,653.78,639.66,540.34,610.12,619.58,642.16,636.02,609.1,600.08,603.78,695.92,618.42,614.1,612.16,699.66,657.8,676.24,627.66,568.02,567.02,518.88,542.56,566.22,632.46,623.52,683.76,604.56,550.56,623.28,619.54,602.04,594.08,624.92,625.46,638.86,724.34,636.82,612.52,672.86,638.76,657.2,603.38,651.56,562.66,450.0,544.28,543.04,570.24,481.44,554.58,586.48,576.02,571.4,555.36,659.86,583.92,662.58,649.88,596.32,714.96,679.04,627.02,585.12,643.88,584.12,643.74,627.02,611.1,676.74,613.92,622.74,660.84,606.32,595.66,614.14,601.68,588.38,588.14,625.78,640.66,588.16,581.1,558.52,572.48,626.34,638.94,568.74,572.96,627.72,584.42,642.3,590.8,626.22,612.98,645.14,638.42,625.16,560.58,647.02,636.54,610.3,636.64,651.78,577.74,611.08,617.66,663.24,632.74,655.7,626.02,635.86,619.98,580.5,564.78,580.3,665.46,656.12,639.46,627.54,674.06,596.12,638.42,665.88,645.14,649.66,629.12,639.48,616.02,638.1,595.44,541.74,625.96,672.96,610.5,652.4,670.8,600.74,497.82,591.3,641.84,632.84,643.5,644.14,638.12,589.36,679.62,657.24,625.0,620.0,661.26,599.1,646.46,664.72,656.9,637.02,651.28,621.18,660.64,666.24,634.86,622.34,613.48,582.76,602.18,601.98,621.64,639.18,600.8,619.06,629.76,605.02,630.18,580.78,554.02,598.9,577.1,589.28,574.64,571.9,588.72,614.22,612.02,635.38,493.7,469.42,619.92,638.5,672.62,673.5,592.8,616.3,511.66,673.92,626.16,633.96,629.94,555.46,549.4,663.32,637.92,641.78,631.32,542.12,552.68,579.8,624.2,594.92,649.38,595.94,601.06,618.28,636.86,623.1,602.92,589.24,650.0,562.98,610.12,592.6,651.48,662.18,567.26,606.54,656.58,585.16,630.34,565.4,617.28,631.64,636.5,660.76,616.76,646.12,610.8,646.08,600.02,576.58,669.02,612.64,624.32,654.02,580.3,576.36,552.92,625.26,613.36,640.72,614.44,640.18,678.94,615.02,664.46,646.54,661.1,635.14,686.2,654.46,565.32,581.6,576.64,601.04,575.84,584.34,562.68,620.34,646.12,655.38,654.74,644.6,625.96,526.22,541.84,545.46,611.74,602.78,550.8,652.38,619.18,623.96,616.32,613.28,665.86,590.42,703.74,639.96,620.54,603.44,583.4,624.98,667.58,663.76,603.66,564.58,547.04,613.1,596.32,582.16,651.86,654.56,621.92,503.64,478.38,655.86,612.36,559.06,604.16,625.64,611.82,596.74,589.6,674.08,615.8,631.14,560.72,620.86,592.42,600.76,613.32,613.34,587.12,613.78,628.16,655.1,645.4,650.86,568.26,511.16,603.44,639.82,643.2,590.72,564.64,617.44,549.06,621.5,635.4,598.68,639.72,574.38,579.78,605.16,632.2,637.78,662.88,659.62,597.64,584.52,618.56,616.88,696.58,608.0,582.86,587.92,593.44,629.24,569.18,574.48,581.42,609.92,588.92,637.74,606.88,597.24,648.36,564.16,591.8,646.56,638.7,592.86,586.9,595.22,551.38,602.9,569.54,581.42,576.08,617.34,609.64,583.0,655.84,571.02,512.6,598.34,611.92,641.18,655.8,623.8,623.02,607.4,609.8,588.76,620.04,616.14,607.16,612.02,540.24,527.58,669.4,606.26,571.58,616.26,618.92,588.2,595.1,665.5,615.22,603.96,591.24,643.1,618.36,581.76,596.3,555.56,590.7,660.28,624.56,658.3,627.86,652.68,625.92,631.06,656.1,617.54,581.28,589.36,615.4,576.56,628.1,634.6,592.88,625.7,664.06,554.0,550.62,612.9,566.58,593.44,593.88,578.78,581.96,588.02,602.02,631.38,580.42,586.86,590.74,669.64,598.36,525.18,601.02,621.84,594.06,641.9,641.6,656.86,620.02,640.12,577.48,590.52,531.64,602.78,628.08,633.7,641.92,608.46,646.28,601.92,570.5,632.62,625.38,597.82,596.36,616.72,630.36,522.76,518.7,584.16,554.08,656.12,605.7,602.2,567.92,724.6,663.26,636.38,652.18,588.92,643.16,602.6,643.24,599.48,585.58,569.68,595.46,670.28,630.42,605.06,599.86,618.26,585.6,562.28,605.92,621.3,560.78,582.44,570.0,573.28,605.74,573.34,604.66,686.92,617.74,649.08,685.28,645.0,637.14,626.02,630.24,589.56,612.42,540.84,562.96,592.92,643.04,650.0,647.06,602.04,580.34,604.8,593.4,569.52,592.92,594.64,670.62,587.82,595.18,579.06,595.82,600.1,614.74,635.4,646.62,628.74,642.14,619.14,625.06,630.22,651.78,618.68,633.98,586.56,553.02,530.34,539.5,564.22,649.3,623.66,636.5,585.36,593.0,588.26,602.84,614.56,598.82,584.02,563.3,590.88,588.42,636.48,665.58,622.14,617.44,529.82,590.52,553.7,577.18,593.62,576.68,583.02,638.38,633.44,627.42,594.84,627.58,608.94,647.18,621.0,605.66,634.1,609.06,636.36,568.92,600.96,582.62,623.82,596.44,639.58,669.3,604.52,630.56,606.62,667.14,605.44,625.08,596.02,558.54,634.82,581.64,571.86,586.4,573.44,569.98,578.76,614.78,617.46,606.64,564.48,590.88,631.26,625.72,648.4,601.66,583.82,617.68,643.76,621.86,582.42,563.04,610.94,624.52,615.52,663.08,592.06,564.1,617.66,624.7,594.08,581.7,587.46,620.72,600.24,608.86,665.9,633.06,616.94,552.0,619.06,626.82,617.64,525.44,600.16,567.04,615.24,592.22,615.94,519.0,573.26,655.58,593.26,604.06,655.7,591.72,570.1,551.32,637.9,593.14,589.44,596.68,549.46,558.9,544.42,637.68,629.48,570.52,581.18,600.24,595.58,611.52,619.58,574.04,608.02,577.6,682.66,562.84,585.16,583.04,561.26,600.78,580.64,586.68,636.56,592.14,606.18,637.88,613.22,560.5,656.72,597.36,577.2,577.42,607.78,595.7,573.56,572.5,612.84,522.06,589.22,567.46,547.72,606.06,633.0,548.88,573.28,586.86,584.1,640.96,594.3,573.14,590.58,633.1,557.26,607.46,632.46,630.82,575.06,635.84,600.12,629.52,614.74,588.78,568.28,469.12,593.86,553.14,619.76,660.7,625.36,670.7,630.9,614.3,550.12,602.2,624.44,549.78,603.06,640.0,534.96,611.94,627.0,576.4,591.28,596.18,616.76,615.18,613.62,586.12,665.64,601.78,625.84,612.92,603.0,673.74,612.02,678.88,661.68,544.6,639.18,573.26,633.1,550.5,560.02,588.24,574.2,594.84,586.16,671.44,622.04,607.9,600.46,619.5,589.98,567.24,575.5,593.96,611.56,620.44,603.94,637.34,589.3,617.52,530.1,590.18,552.46,660.76,594.18,563.36,621.7,586.7,621.58,623.14,641.52,543.6,602.66,541.06,589.08,589.34,627.16,647.26,634.7,584.6,605.24,600.44,604.66,592.14,610.58,606.52,602.3,588.72,581.1,582.62,603.12,561.34,582.3,671.9,595.2,603.78,593.7,601.56,532.14,649.18,517.08,529.52,601.8,594.8,545.2,602.0,629.08,630.22,560.94,589.48,609.3,560.86,604.48,601.82,670.3,592.02,690.04,606.78,576.54,574.58,596.98,595.32,567.06,580.56,648.32,571.74,618.56,608.08,629.72,578.16,609.1,592.42,584.34,614.22,568.14,606.68,571.1,647.48,572.38,603.68,609.86,609.52,601.14,612.86,631.46,577.58,591.86,642.24,554.12,534.66,596.94,637.66,600.48,544.86,558.62,555.44,556.24,568.02,608.78,601.78,653.24,592.38,619.2,621.42,634.82,597.86,613.52,593.72,593.52,624.78,585.92,538.2,626.12,598.42,680.0,450.0,511.86,530.04,633.12,686.94,580.7,592.28,571.54,619.68,627.36,549.62,585.06,599.5,585.72,584.8,538.14,543.12,602.02,614.82,590.4,609.82,572.6,608.3,513.32,549.74,553.44,563.18,560.18,569.72,611.3,622.46,542.84,576.5,539.16,550.62,566.26,554.7,522.0,641.64,606.5,586.36,600.96,600.68,566.7,570.24,565.32,608.38,616.38,650.96,560.74,587.42,598.06,591.06,574.32,581.14,638.26,653.54,638.54,596.42,586.74,564.0,546.9,567.58,581.1,589.98,539.72,611.2,545.5,562.46,579.86,576.12,599.66,553.34,607.38,569.74,610.52,516.26,557.82,615.54,563.5,617.38,659.38,450.0,576.04,627.7,537.84,564.02,595.7,598.14,559.9,589.04,589.14,574.68,601.54,574.66,618.1,593.1,601.12,588.1,602.56,627.24,622.56,609.22,612.24,608.18,612.4,610.46,586.5,510.86,587.76,576.48,598.72,603.56,603.02,577.24,586.82,544.66,621.72,609.88,607.86,582.56,602.08,574.5,606.08,582.8,604.96,578.92,607.28,593.94,615.14,626.72,681.18,595.96,571.98,610.6,593.08,598.26,586.08,570.3,578.32,580.7,564.06,608.06,569.84,590.84,599.02,566.94,597.02,583.24,612.9,671.76,572.56,556.72,585.94,585.72,557.06,603.0,698.18,602.46,560.18,576.48,533.16,568.72,582.04,544.08,563.74,536.54,589.14,563.44,567.2,509.78,518.48,573.9,577.74,588.68,658.4,587.2,548.8,562.48,574.14,585.7,580.74,585.28,592.66,488.84,450.0,561.82,552.3,638.66,516.84,486.18,549.7,551.38,574.88,450.0,450.0,450.0,514.08,467.26,556.68,450.0,450.0,576.92,517.2,501.52,553.84,450.0,450.0,466.56,450.0,450.0,450.0,537.7,544.88,564.6,450.0,450.0,559.8,450.0,450.0,565.9,552.56,614.4,640.66,616.52,568.22,534.52,575.82,562.84,533.88,580.86,511.26,590.3,619.78,603.22,572.22,548.18,576.8,567.12,565.4,605.9,578.82,638.56,570.18,530.74,589.76,539.26,607.58,582.96,571.36,610.44,638.94,564.62,604.5,552.56,518.8,548.24,573.34,557.18,565.88,628.68,554.48,581.8,630.56,578.32,577.1,535.94,554.38,565.32,582.88,562.52,556.38,559.02,582.4,584.0,571.0,519.04,545.46,562.8,573.1,593.12,545.3,450.0,523.5,578.26,590.54,574.64,582.18,581.3,519.88,498.36,540.9,497.0,491.46,575.82,614.54,594.62,583.48,517.6,493.88,544.32,559.76,623.02,537.3,578.64,558.22,558.88,585.84,564.46,526.66,551.46,587.96,590.02,558.7,503.52,551.84,558.32,511.9,541.5,471.08,514.16,532.98,536.2,543.4,450.0,542.5,528.58,456.64,550.54,561.86,506.08,510.92,556.28,450.0,475.3,563.6,540.5,593.02,533.56,573.06,548.76,467.36,570.06,493.08,575.78,518.46,464.58,491.72,551.44,547.24,487.78,450.0,575.18,481.4,545.04,569.56,518.16,450.0,523.62,530.66,564.68,526.9,469.84,549.68,585.34,567.16,575.24,571.36,546.52,575.5,569.2,623.68,582.2,566.2,550.0,563.7,505.78,512.58,526.88,531.24,560.28,497.78,490.56,563.36,633.82,616.64,553.32,584.78,571.08,550.06,486.22,540.58,596.74,600.12,578.0,577.42,549.82,527.06,486.52,597.28,601.04,589.92,531.56,557.24,570.88,598.62,504.7,537.74,574.9,579.82,539.58,551.38,541.98,593.84,608.86,584.38,554.7,548.7,559.28,556.44,625.38,508.16,536.7,454.42,563.78,561.4,561.46,575.46,540.08,534.1,572.6,549.4,614.22,550.42,555.86,533.18,498.62,469.36,577.04,562.84,562.96,557.86,563.44,546.06,507.14,529.48,485.22,528.92,450.0,551.18,589.06,600.94,516.2,559.6,536.1,540.74,611.8,602.48,586.56,575.38,581.64,571.72,564.04,600.64,557.58,544.34,605.2,497.82,450.0,529.32,551.86,515.6,581.06,559.46,550.16,509.22,543.34,450.0,494.82,538.12,596.26,560.58,611.44,550.34,555.08,546.14,587.88,450.0,529.6,516.82,568.36,590.82,573.94,587.94,578.9,577.56,510.0,551.3,533.04,509.26,575.66,553.4,561.7,546.16,535.9,631.82,606.3,479.56,588.94,572.7,581.74,576.12,540.66,532.04,450.0,557.2,478.1,539.36,601.34,538.78,566.76,557.1,594.8,555.12,553.82,517.6,572.34,585.92,570.56,591.1,549.04,505.7,558.94,618.5,552.92,527.8,533.2,487.5,572.12,506.22,505.68,524.56,518.94,536.0,519.9,450.0,511.28,555.86,542.8,574.9,511.82,557.32,524.34,573.22,549.4,571.74,519.34,548.2,536.7,450.0,463.6,553.1,546.28,531.84,491.18,451.36,574.26,668.08,590.82,565.54,526.22,549.72,550.3,532.88,519.1,516.84,597.12,521.12,534.68,566.58,574.42,450.0,538.34,547.06,545.02,553.42,450.0,571.4,533.92,522.12,565.24,493.84,450.0,545.82,572.12,547.72,565.9,511.7,469.78,542.1,526.68,511.36,649.02,601.9,592.14,609.0,450.0,596.3,558.22,503.22,552.48,473.16,450.0,450.0,553.42,541.42,527.56,547.22,593.3,560.04,608.1,606.96,595.48,450.0,450.0,450.0,546.2,560.56,525.82,528.14,563.4,519.66,502.78,534.32,571.64,504.16,622.56,541.7,578.56,566.08,619.46,450.0,640.28,572.04,591.86,599.4,534.08,607.06,525.76,564.04,556.76,574.32,532.26,566.74,450.0,498.94,522.56,563.46,579.98,492.44,553.96,490.78,450.0,546.12,550.58,496.68,450.0,569.98,459.7,556.22,511.02,584.22,577.88,450.0,580.76,528.22,599.8,563.12,577.78,498.46,609.22,618.46,621.84,558.6,567.06,566.62,638.74,594.96,542.64,505.58,584.34,450.0,497.78,456.66,533.34],\"xaxis\":\"x\",\"yaxis\":\"y\",\"type\":\"histogram\"}],                        {\"template\":{\"data\":{\"bar\":[{\"error_x\":{\"color\":\"#2a3f5f\"},\"error_y\":{\"color\":\"#2a3f5f\"},\"marker\":{\"line\":{\"color\":\"#E5ECF6\",\"width\":0.5},\"pattern\":{\"fillmode\":\"overlay\",\"size\":10,\"solidity\":0.2}},\"type\":\"bar\"}],\"barpolar\":[{\"marker\":{\"line\":{\"color\":\"#E5ECF6\",\"width\":0.5},\"pattern\":{\"fillmode\":\"overlay\",\"size\":10,\"solidity\":0.2}},\"type\":\"barpolar\"}],\"carpet\":[{\"aaxis\":{\"endlinecolor\":\"#2a3f5f\",\"gridcolor\":\"white\",\"linecolor\":\"white\",\"minorgridcolor\":\"white\",\"startlinecolor\":\"#2a3f5f\"},\"baxis\":{\"endlinecolor\":\"#2a3f5f\",\"gridcolor\":\"white\",\"linecolor\":\"white\",\"minorgridcolor\":\"white\",\"startlinecolor\":\"#2a3f5f\"},\"type\":\"carpet\"}],\"choropleth\":[{\"colorbar\":{\"outlinewidth\":0,\"ticks\":\"\"},\"type\":\"choropleth\"}],\"contour\":[{\"colorbar\":{\"outlinewidth\":0,\"ticks\":\"\"},\"colorscale\":[[0.0,\"#0d0887\"],[0.1111111111111111,\"#46039f\"],[0.2222222222222222,\"#7201a8\"],[0.3333333333333333,\"#9c179e\"],[0.4444444444444444,\"#bd3786\"],[0.5555555555555556,\"#d8576b\"],[0.6666666666666666,\"#ed7953\"],[0.7777777777777778,\"#fb9f3a\"],[0.8888888888888888,\"#fdca26\"],[1.0,\"#f0f921\"]],\"type\":\"contour\"}],\"contourcarpet\":[{\"colorbar\":{\"outlinewidth\":0,\"ticks\":\"\"},\"type\":\"contourcarpet\"}],\"heatmap\":[{\"colorbar\":{\"outlinewidth\":0,\"ticks\":\"\"},\"colorscale\":[[0.0,\"#0d0887\"],[0.1111111111111111,\"#46039f\"],[0.2222222222222222,\"#7201a8\"],[0.3333333333333333,\"#9c179e\"],[0.4444444444444444,\"#bd3786\"],[0.5555555555555556,\"#d8576b\"],[0.6666666666666666,\"#ed7953\"],[0.7777777777777778,\"#fb9f3a\"],[0.8888888888888888,\"#fdca26\"],[1.0,\"#f0f921\"]],\"type\":\"heatmap\"}],\"heatmapgl\":[{\"colorbar\":{\"outlinewidth\":0,\"ticks\":\"\"},\"colorscale\":[[0.0,\"#0d0887\"],[0.1111111111111111,\"#46039f\"],[0.2222222222222222,\"#7201a8\"],[0.3333333333333333,\"#9c179e\"],[0.4444444444444444,\"#bd3786\"],[0.5555555555555556,\"#d8576b\"],[0.6666666666666666,\"#ed7953\"],[0.7777777777777778,\"#fb9f3a\"],[0.8888888888888888,\"#fdca26\"],[1.0,\"#f0f921\"]],\"type\":\"heatmapgl\"}],\"histogram\":[{\"marker\":{\"pattern\":{\"fillmode\":\"overlay\",\"size\":10,\"solidity\":0.2}},\"type\":\"histogram\"}],\"histogram2d\":[{\"colorbar\":{\"outlinewidth\":0,\"ticks\":\"\"},\"colorscale\":[[0.0,\"#0d0887\"],[0.1111111111111111,\"#46039f\"],[0.2222222222222222,\"#7201a8\"],[0.3333333333333333,\"#9c179e\"],[0.4444444444444444,\"#bd3786\"],[0.5555555555555556,\"#d8576b\"],[0.6666666666666666,\"#ed7953\"],[0.7777777777777778,\"#fb9f3a\"],[0.8888888888888888,\"#fdca26\"],[1.0,\"#f0f921\"]],\"type\":\"histogram2d\"}],\"histogram2dcontour\":[{\"colorbar\":{\"outlinewidth\":0,\"ticks\":\"\"},\"colorscale\":[[0.0,\"#0d0887\"],[0.1111111111111111,\"#46039f\"],[0.2222222222222222,\"#7201a8\"],[0.3333333333333333,\"#9c179e\"],[0.4444444444444444,\"#bd3786\"],[0.5555555555555556,\"#d8576b\"],[0.6666666666666666,\"#ed7953\"],[0.7777777777777778,\"#fb9f3a\"],[0.8888888888888888,\"#fdca26\"],[1.0,\"#f0f921\"]],\"type\":\"histogram2dcontour\"}],\"mesh3d\":[{\"colorbar\":{\"outlinewidth\":0,\"ticks\":\"\"},\"type\":\"mesh3d\"}],\"parcoords\":[{\"line\":{\"colorbar\":{\"outlinewidth\":0,\"ticks\":\"\"}},\"type\":\"parcoords\"}],\"pie\":[{\"automargin\":true,\"type\":\"pie\"}],\"scatter\":[{\"marker\":{\"colorbar\":{\"outlinewidth\":0,\"ticks\":\"\"}},\"type\":\"scatter\"}],\"scatter3d\":[{\"line\":{\"colorbar\":{\"outlinewidth\":0,\"ticks\":\"\"}},\"marker\":{\"colorbar\":{\"outlinewidth\":0,\"ticks\":\"\"}},\"type\":\"scatter3d\"}],\"scattercarpet\":[{\"marker\":{\"colorbar\":{\"outlinewidth\":0,\"ticks\":\"\"}},\"type\":\"scattercarpet\"}],\"scattergeo\":[{\"marker\":{\"colorbar\":{\"outlinewidth\":0,\"ticks\":\"\"}},\"type\":\"scattergeo\"}],\"scattergl\":[{\"marker\":{\"colorbar\":{\"outlinewidth\":0,\"ticks\":\"\"}},\"type\":\"scattergl\"}],\"scattermapbox\":[{\"marker\":{\"colorbar\":{\"outlinewidth\":0,\"ticks\":\"\"}},\"type\":\"scattermapbox\"}],\"scatterpolar\":[{\"marker\":{\"colorbar\":{\"outlinewidth\":0,\"ticks\":\"\"}},\"type\":\"scatterpolar\"}],\"scatterpolargl\":[{\"marker\":{\"colorbar\":{\"outlinewidth\":0,\"ticks\":\"\"}},\"type\":\"scatterpolargl\"}],\"scatterternary\":[{\"marker\":{\"colorbar\":{\"outlinewidth\":0,\"ticks\":\"\"}},\"type\":\"scatterternary\"}],\"surface\":[{\"colorbar\":{\"outlinewidth\":0,\"ticks\":\"\"},\"colorscale\":[[0.0,\"#0d0887\"],[0.1111111111111111,\"#46039f\"],[0.2222222222222222,\"#7201a8\"],[0.3333333333333333,\"#9c179e\"],[0.4444444444444444,\"#bd3786\"],[0.5555555555555556,\"#d8576b\"],[0.6666666666666666,\"#ed7953\"],[0.7777777777777778,\"#fb9f3a\"],[0.8888888888888888,\"#fdca26\"],[1.0,\"#f0f921\"]],\"type\":\"surface\"}],\"table\":[{\"cells\":{\"fill\":{\"color\":\"#EBF0F8\"},\"line\":{\"color\":\"white\"}},\"header\":{\"fill\":{\"color\":\"#C8D4E3\"},\"line\":{\"color\":\"white\"}},\"type\":\"table\"}]},\"layout\":{\"annotationdefaults\":{\"arrowcolor\":\"#2a3f5f\",\"arrowhead\":0,\"arrowwidth\":1},\"autotypenumbers\":\"strict\",\"coloraxis\":{\"colorbar\":{\"outlinewidth\":0,\"ticks\":\"\"}},\"colorscale\":{\"diverging\":[[0,\"#8e0152\"],[0.1,\"#c51b7d\"],[0.2,\"#de77ae\"],[0.3,\"#f1b6da\"],[0.4,\"#fde0ef\"],[0.5,\"#f7f7f7\"],[0.6,\"#e6f5d0\"],[0.7,\"#b8e186\"],[0.8,\"#7fbc41\"],[0.9,\"#4d9221\"],[1,\"#276419\"]],\"sequential\":[[0.0,\"#0d0887\"],[0.1111111111111111,\"#46039f\"],[0.2222222222222222,\"#7201a8\"],[0.3333333333333333,\"#9c179e\"],[0.4444444444444444,\"#bd3786\"],[0.5555555555555556,\"#d8576b\"],[0.6666666666666666,\"#ed7953\"],[0.7777777777777778,\"#fb9f3a\"],[0.8888888888888888,\"#fdca26\"],[1.0,\"#f0f921\"]],\"sequentialminus\":[[0.0,\"#0d0887\"],[0.1111111111111111,\"#46039f\"],[0.2222222222222222,\"#7201a8\"],[0.3333333333333333,\"#9c179e\"],[0.4444444444444444,\"#bd3786\"],[0.5555555555555556,\"#d8576b\"],[0.6666666666666666,\"#ed7953\"],[0.7777777777777778,\"#fb9f3a\"],[0.8888888888888888,\"#fdca26\"],[1.0,\"#f0f921\"]]},\"colorway\":[\"#636efa\",\"#EF553B\",\"#00cc96\",\"#ab63fa\",\"#FFA15A\",\"#19d3f3\",\"#FF6692\",\"#B6E880\",\"#FF97FF\",\"#FECB52\"],\"font\":{\"color\":\"#2a3f5f\"},\"geo\":{\"bgcolor\":\"white\",\"lakecolor\":\"white\",\"landcolor\":\"#E5ECF6\",\"showlakes\":true,\"showland\":true,\"subunitcolor\":\"white\"},\"hoverlabel\":{\"align\":\"left\"},\"hovermode\":\"closest\",\"mapbox\":{\"style\":\"light\"},\"paper_bgcolor\":\"white\",\"plot_bgcolor\":\"#E5ECF6\",\"polar\":{\"angularaxis\":{\"gridcolor\":\"white\",\"linecolor\":\"white\",\"ticks\":\"\"},\"bgcolor\":\"#E5ECF6\",\"radialaxis\":{\"gridcolor\":\"white\",\"linecolor\":\"white\",\"ticks\":\"\"}},\"scene\":{\"xaxis\":{\"backgroundcolor\":\"#E5ECF6\",\"gridcolor\":\"white\",\"gridwidth\":2,\"linecolor\":\"white\",\"showbackground\":true,\"ticks\":\"\",\"zerolinecolor\":\"white\"},\"yaxis\":{\"backgroundcolor\":\"#E5ECF6\",\"gridcolor\":\"white\",\"gridwidth\":2,\"linecolor\":\"white\",\"showbackground\":true,\"ticks\":\"\",\"zerolinecolor\":\"white\"},\"zaxis\":{\"backgroundcolor\":\"#E5ECF6\",\"gridcolor\":\"white\",\"gridwidth\":2,\"linecolor\":\"white\",\"showbackground\":true,\"ticks\":\"\",\"zerolinecolor\":\"white\"}},\"shapedefaults\":{\"line\":{\"color\":\"#2a3f5f\"}},\"ternary\":{\"aaxis\":{\"gridcolor\":\"white\",\"linecolor\":\"white\",\"ticks\":\"\"},\"baxis\":{\"gridcolor\":\"white\",\"linecolor\":\"white\",\"ticks\":\"\"},\"bgcolor\":\"#E5ECF6\",\"caxis\":{\"gridcolor\":\"white\",\"linecolor\":\"white\",\"ticks\":\"\"}},\"title\":{\"x\":0.05},\"xaxis\":{\"automargin\":true,\"gridcolor\":\"white\",\"linecolor\":\"white\",\"ticks\":\"\",\"title\":{\"standoff\":15},\"zerolinecolor\":\"white\",\"zerolinewidth\":2},\"yaxis\":{\"automargin\":true,\"gridcolor\":\"white\",\"linecolor\":\"white\",\"ticks\":\"\",\"title\":{\"standoff\":15},\"zerolinecolor\":\"white\",\"zerolinewidth\":2}}},\"xaxis\":{\"anchor\":\"y\",\"domain\":[0.0,1.0],\"title\":{\"text\":\"nota_integral_ampla\"}},\"yaxis\":{\"anchor\":\"x\",\"domain\":[0.0,1.0],\"title\":{\"text\":\"percent\"}},\"legend\":{\"tracegroupgap\":0},\"margin\":{\"t\":60},\"barmode\":\"relative\",\"title\":{\"text\":\"Distribui\\u00e7\\u00e3o de notas (integrais amplas)\"},\"width\":400,\"height\":400},                        {\"responsive\": true}                    ).then(function(){\n",
              "                            \n",
              "var gd = document.getElementById('8e493bf4-9584-46b9-984c-b02d96c4bf4c');\n",
              "var x = new MutationObserver(function (mutations, observer) {{\n",
              "        var display = window.getComputedStyle(gd).display;\n",
              "        if (!display || display === 'none') {{\n",
              "            console.log([gd, 'removed!']);\n",
              "            Plotly.purge(gd);\n",
              "            observer.disconnect();\n",
              "        }}\n",
              "}});\n",
              "\n",
              "// Listen for the removal of the full notebook cells\n",
              "var notebookContainer = gd.closest('#notebook-container');\n",
              "if (notebookContainer) {{\n",
              "    x.observe(notebookContainer, {childList: true});\n",
              "}}\n",
              "\n",
              "// Listen for the clearing of the current output cell\n",
              "var outputEl = gd.closest('.output');\n",
              "if (outputEl) {{\n",
              "    x.observe(outputEl, {childList: true});\n",
              "}}\n",
              "\n",
              "                        })                };                            </script>        </div>\n",
              "</body>\n",
              "</html>"
            ]
          },
          "metadata": {}
        }
      ]
    },
    {
      "cell_type": "code",
      "source": [
        "import seaborn as sns\n",
        "sns.histplot(df_brasilia, x='nota_integral_ampla', bins=32, color=\"orange\", kde=True, stat=\"probability\");"
      ],
      "metadata": {
        "colab": {
          "base_uri": "https://localhost:8080/",
          "height": 280
        },
        "id": "XUTos4z0vy3S",
        "outputId": "33f58e56-0ea8-48e6-b416-14dc0d68a9ee"
      },
      "execution_count": null,
      "outputs": [
        {
          "output_type": "display_data",
          "data": {
            "text/plain": [
              "<Figure size 432x288 with 1 Axes>"
            ],
            "image/png": "[encoded data removed]"
          },
          "metadata": {
            "needs_background": "light"
          }
        }
      ]
    },
    {
      "cell_type": "code",
      "source": [
        "import seaborn as sns\n",
        "sns.histplot(df, x='nota_integral_ampla', bins=32, color=\"orange\", kde=True, stat=\"probability\");"
      ],
      "metadata": {
        "colab": {
          "base_uri": "https://localhost:8080/",
          "height": 280
        },
        "id": "ktIHjldav61g",
        "outputId": "6573e31e-31ca-4425-c416-aed253214459"
      },
      "execution_count": null,
      "outputs": [
        {
          "output_type": "display_data",
          "data": {
            "text/plain": [
              "<Figure size 432x288 with 1 Axes>"
            ],
            "image/png": "[encoded data removed]"
          },
          "metadata": {
            "needs_background": "light"
          }
        }
      ]
    },
    {
      "cell_type": "code",
      "source": [
        "#qqplot\n",
        "\n",
        "import scipy.stats as stats\n",
        "import matplotlib.pyplot as plt"
      ],
      "metadata": {
        "id": "p7XsxchZwHbF"
      },
      "execution_count": null,
      "outputs": []
    },
    {
      "cell_type": "code",
      "source": [
        "stats.probplot(df['nota_integral_ampla'], dist=\"norm\", plot=plt)\n",
        "plt.title(\"Normal Q-Q plot\")\n",
        "plt.show()"
      ],
      "metadata": {
        "colab": {
          "base_uri": "https://localhost:8080/",
          "height": 295
        },
        "id": "k28Kt1PywLuD",
        "outputId": "1a6e14d5-a87c-4673-e4a6-4075d9a9407b"
      },
      "execution_count": null,
      "outputs": [
        {
          "output_type": "display_data",
          "data": {
            "text/plain": [
              "<Figure size 432x288 with 1 Axes>"
            ],
            "image/png": "[encoded data removed]"
          },
          "metadata": {
            "needs_background": "light"
          }
        }
      ]
    },
    {
      "cell_type": "code",
      "source": [
        "stats.probplot(df_brasilia['nota_integral_ampla'], dist=\"norm\", plot=plt)\n",
        "plt.title(\"Normal Q-Q plot\")\n",
        "plt.show()"
      ],
      "metadata": {
        "colab": {
          "base_uri": "https://localhost:8080/",
          "height": 295
        },
        "id": "v3QS25JvwaVq",
        "outputId": "ad0d0ea0-36b3-4613-eb97-bc5a33e190f7"
      },
      "execution_count": null,
      "outputs": [
        {
          "output_type": "display_data",
          "data": {
            "text/plain": [
              "<Figure size 432x288 with 1 Axes>"
            ],
            "image/png": "[encoded data removed]"
          },
          "metadata": {
            "needs_background": "light"
          }
        }
      ]
    },
    {
      "cell_type": "code",
      "source": [
        "#teste de shapiro_wilk\n",
        "stats.shapiro(df_brasilia.nota_integral_ampla)"
      ],
      "metadata": {
        "colab": {
          "base_uri": "https://localhost:8080/"
        },
        "id": "QRoxgSI2wy2w",
        "outputId": "e09e5cb7-0df0-4a0b-bbe4-883dd17bc809"
      },
      "execution_count": null,
      "outputs": [
        {
          "output_type": "execute_result",
          "data": {
            "text/plain": [
              "ShapiroResult(statistic=0.9890588521957397, pvalue=0.6837945580482483)"
            ]
          },
          "metadata": {},
          "execution_count": 124
        }
      ]
    },
    {
      "cell_type": "code",
      "source": [
        "import statsmodels\n",
        "from statsmodels.stats.diagnostic import lilliefors"
      ],
      "metadata": {
        "id": "17z5zAxUxJTa"
      },
      "execution_count": null,
      "outputs": []
    },
    {
      "cell_type": "code",
      "source": [
        "statsmodels.stats.diagnostic.lilliefors(df_brasilia.nota_integral_ampla, dist = 'norm')"
      ],
      "metadata": {
        "colab": {
          "base_uri": "https://localhost:8080/"
        },
        "id": "2sAUaRC_xM48",
        "outputId": "cc0694fa-47a9-45b6-d9d3-c1eb77fcd780"
      },
      "execution_count": null,
      "outputs": [
        {
          "output_type": "execute_result",
          "data": {
            "text/plain": [
              "(0.0703049635323868, 0.414618712546165)"
            ]
          },
          "metadata": {},
          "execution_count": 126
        }
      ]
    },
    {
      "cell_type": "code",
      "source": [
        "#teste lilliefors (kolmogorov_sminorv)\n",
        "statsmodels.stats.diagnostic.lilliefors(df_brasilia.nota_integral_ampla, dist = 'norm')"
      ],
      "metadata": {
        "colab": {
          "base_uri": "https://localhost:8080/"
        },
        "id": "_LMQGGUDxXji",
        "outputId": "1096e50d-62c3-4fb2-b489-594b398ade04"
      },
      "execution_count": null,
      "outputs": [
        {
          "output_type": "execute_result",
          "data": {
            "text/plain": [
              "(0.0703049635323868, 0.414618712546165)"
            ]
          },
          "metadata": {},
          "execution_count": 127
        }
      ]
    }
  ]
}